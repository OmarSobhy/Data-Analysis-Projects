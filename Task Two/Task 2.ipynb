{
 "cells": [
  {
   "cell_type": "code",
   "execution_count": 1,
   "id": "2977a7b9",
   "metadata": {},
   "outputs": [],
   "source": [
    "#importing libraries\n",
    "import pandas as pd\n",
    "import numpy as np\n",
    "import matplotlib.pyplot as plt\n",
    "import seaborn as sns"
   ]
  },
  {
   "cell_type": "code",
   "execution_count": 2,
   "id": "2c91c715",
   "metadata": {},
   "outputs": [],
   "source": [
    "#reading in the data\n",
    "customer_address = pd.read_excel(\"E:/Omar's Stuff/College related/Virtual DataAnalysis Camp/Task One/Datasets/Datasets Cleaned/CustomerAddress.xlsx\")\n",
    "customer_demographic = pd.read_excel(\"E:/Omar's Stuff/College related/Virtual DataAnalysis Camp/Task One/Datasets/Datasets Cleaned/CustomerDemographic.xlsx\")\n",
    "new_customer_list = pd.read_excel(\"E:/Omar's Stuff/College related/Virtual DataAnalysis Camp/Task One/Datasets/Datasets Cleaned/NewCustomerList.xlsx\")\n",
    "transactions = pd.read_excel(\"E:/Omar's Stuff/College related/Virtual DataAnalysis Camp/Task One/Datasets/Datasets Cleaned/Transactions.xlsx\")"
   ]
  },
  {
   "cell_type": "markdown",
   "id": "0896d783",
   "metadata": {},
   "source": [
    "### Data Exploration\n",
    "\n",
    "\"in this part I will try to find some relationships between the datasets' attributes\""
   ]
  },
  {
   "cell_type": "code",
   "execution_count": 3,
   "id": "2fb9c80a",
   "metadata": {},
   "outputs": [],
   "source": [
    "customer_address.drop('Unnamed: 0', inplace = True, axis = 1)"
   ]
  },
  {
   "cell_type": "code",
   "execution_count": 4,
   "id": "fb131aa6",
   "metadata": {},
   "outputs": [],
   "source": [
    "customer_address.set_index('customer_id', inplace = True)"
   ]
  },
  {
   "cell_type": "code",
   "execution_count": 5,
   "id": "9cb52a14",
   "metadata": {},
   "outputs": [],
   "source": [
    "customer_demographic.drop('Unnamed: 0', inplace = True, axis = 1)"
   ]
  },
  {
   "cell_type": "code",
   "execution_count": 6,
   "id": "b7576483",
   "metadata": {},
   "outputs": [],
   "source": [
    "customer_demographic.set_index('customer_id', inplace = True)"
   ]
  },
  {
   "cell_type": "code",
   "execution_count": 7,
   "id": "2d76267f",
   "metadata": {},
   "outputs": [],
   "source": [
    "new_customer_list.drop('Unnamed: 0', inplace = True, axis = 1)"
   ]
  },
  {
   "cell_type": "code",
   "execution_count": 8,
   "id": "698236ad",
   "metadata": {},
   "outputs": [],
   "source": [
    "transactions.drop('Unnamed: 0', inplace = True, axis = 1)"
   ]
  },
  {
   "cell_type": "markdown",
   "id": "7936ce08",
   "metadata": {},
   "source": [
    "####  in the past few lines of code I have removed the 'unnamed : 0' column from the data as it has no use and it represents noise, and also in the customer address and the customer demographic dataframes I have set the customer id to be the index."
   ]
  },
  {
   "cell_type": "code",
   "execution_count": 9,
   "id": "ea0b101f",
   "metadata": {},
   "outputs": [],
   "source": [
    "from datetime import datetime\n",
    "from datetime import date\n",
    "\n",
    "def calculate_age(born):\n",
    "    today = date.today()\n",
    "    return today.year - born.year - ((today.month, today.day) < (born.month, born.day))\n",
    "\n",
    "customer_demographic['age'] = customer_demographic['DOB'].apply(calculate_age)"
   ]
  },
  {
   "cell_type": "code",
   "execution_count": 10,
   "id": "965d4061",
   "metadata": {},
   "outputs": [],
   "source": [
    "new_customer_list['age'] = new_customer_list['DOB'].apply(calculate_age)"
   ]
  },
  {
   "cell_type": "markdown",
   "id": "8f37503e",
   "metadata": {},
   "source": [
    "#### In the previous lines I have created a column called age in both customer_demographic dataframe and new_customer_list dataframe"
   ]
  },
  {
   "cell_type": "markdown",
   "id": "6977be39",
   "metadata": {},
   "source": [
    "### First exploring the Customer Demographic Dataframe"
   ]
  },
  {
   "cell_type": "code",
   "execution_count": 11,
   "id": "74bcbb63",
   "metadata": {},
   "outputs": [
    {
     "data": {
      "text/html": [
       "<div>\n",
       "<style scoped>\n",
       "    .dataframe tbody tr th:only-of-type {\n",
       "        vertical-align: middle;\n",
       "    }\n",
       "\n",
       "    .dataframe tbody tr th {\n",
       "        vertical-align: top;\n",
       "    }\n",
       "\n",
       "    .dataframe thead th {\n",
       "        text-align: right;\n",
       "    }\n",
       "</style>\n",
       "<table border=\"1\" class=\"dataframe\">\n",
       "  <thead>\n",
       "    <tr style=\"text-align: right;\">\n",
       "      <th></th>\n",
       "      <th>first_name</th>\n",
       "      <th>last_name</th>\n",
       "      <th>gender</th>\n",
       "      <th>job_title</th>\n",
       "      <th>job_industry_category</th>\n",
       "      <th>wealth_segment</th>\n",
       "    </tr>\n",
       "  </thead>\n",
       "  <tbody>\n",
       "    <tr>\n",
       "      <th>count</th>\n",
       "      <td>2630</td>\n",
       "      <td>2630</td>\n",
       "      <td>2630</td>\n",
       "      <td>2630</td>\n",
       "      <td>2630</td>\n",
       "      <td>2630</td>\n",
       "    </tr>\n",
       "    <tr>\n",
       "      <th>unique</th>\n",
       "      <td>2234</td>\n",
       "      <td>2560</td>\n",
       "      <td>2</td>\n",
       "      <td>195</td>\n",
       "      <td>9</td>\n",
       "      <td>3</td>\n",
       "    </tr>\n",
       "    <tr>\n",
       "      <th>top</th>\n",
       "      <td>Tobe</td>\n",
       "      <td>Bartolomeoni</td>\n",
       "      <td>F</td>\n",
       "      <td>Social Worker</td>\n",
       "      <td>Manufacturing</td>\n",
       "      <td>Mass Customer</td>\n",
       "    </tr>\n",
       "    <tr>\n",
       "      <th>freq</th>\n",
       "      <td>5</td>\n",
       "      <td>2</td>\n",
       "      <td>1368</td>\n",
       "      <td>38</td>\n",
       "      <td>635</td>\n",
       "      <td>1300</td>\n",
       "    </tr>\n",
       "  </tbody>\n",
       "</table>\n",
       "</div>"
      ],
      "text/plain": [
       "       first_name     last_name gender      job_title job_industry_category  \\\n",
       "count        2630          2630   2630           2630                  2630   \n",
       "unique       2234          2560      2            195                     9   \n",
       "top          Tobe  Bartolomeoni      F  Social Worker         Manufacturing   \n",
       "freq            5             2   1368             38                   635   \n",
       "\n",
       "       wealth_segment  \n",
       "count            2630  \n",
       "unique              3  \n",
       "top     Mass Customer  \n",
       "freq             1300  "
      ]
     },
     "execution_count": 11,
     "metadata": {},
     "output_type": "execute_result"
    }
   ],
   "source": [
    "customer_demographic.describe(include=object)"
   ]
  },
  {
   "cell_type": "code",
   "execution_count": 12,
   "id": "57ece874",
   "metadata": {},
   "outputs": [
    {
     "data": {
      "image/png": "[encoded data removed]",
      "text/plain": [
       "<Figure size 640x480 with 1 Axes>"
      ]
     },
     "metadata": {
      "needs_background": "light"
     },
     "output_type": "display_data"
    }
   ],
   "source": [
    "from matplotlib.pyplot import figure\n",
    "\n",
    "figure(figsize=(8, 6), dpi=80)\n",
    "customer_demographic['wealth_segment'].value_counts().plot();\n",
    "\n",
    "#from this plot it seems that most of the customers are 'Mass customers'\n",
    "#The rest are nearly split equally between the 'High net worth' and 'Affluent' customers \n",
    "#with a little bit increase on the 'High net side'"
   ]
  },
  {
   "cell_type": "code",
   "execution_count": 13,
   "id": "47c4ca78",
   "metadata": {},
   "outputs": [
    {
     "data": {
      "image/png": "[encoded data removed]",
      "text/plain": [
       "<Figure size 640x480 with 1 Axes>"
      ]
     },
     "metadata": {
      "needs_background": "light"
     },
     "output_type": "display_data"
    }
   ],
   "source": [
    "figure(figsize=(8, 6), dpi=80)\n",
    "customer_demographic['job_industry_category'].value_counts().plot(kind = 'bar');\n",
    "plt.xticks(rotation = 45);"
   ]
  },
  {
   "cell_type": "code",
   "execution_count": 14,
   "id": "bd13a599",
   "metadata": {},
   "outputs": [
    {
     "data": {
      "image/png": "[encoded data removed]",
      "text/plain": [
       "<Figure size 640x480 with 1 Axes>"
      ]
     },
     "metadata": {
      "needs_background": "light"
     },
     "output_type": "display_data"
    }
   ],
   "source": [
    "figure(figsize=(8, 6), dpi=80)\n",
    "jobs = customer_demographic[['job_industry_category', 'wealth_segment']]\n",
    "jobs[jobs['wealth_segment'] == 'High Net Worth'].value_counts().plot(kind = 'bar');\n",
    "plt.xticks(rotation = 90);"
   ]
  },
  {
   "cell_type": "code",
   "execution_count": 15,
   "id": "6b02755e",
   "metadata": {},
   "outputs": [
    {
     "data": {
      "image/png": "[encoded data removed]",
      "text/plain": [
       "<Figure size 640x400 with 1 Axes>"
      ]
     },
     "metadata": {
      "needs_background": "light"
     },
     "output_type": "display_data"
    }
   ],
   "source": [
    "figure(figsize=(8, 5), dpi=80)\n",
    "jobs[jobs['wealth_segment'] == 'Mass Customer'].value_counts().plot(kind = 'bar');\n",
    "plt.xticks(rotation = 90);"
   ]
  },
  {
   "cell_type": "code",
   "execution_count": 16,
   "id": "d49eb5ab",
   "metadata": {},
   "outputs": [
    {
     "data": {
      "image/png": "[encoded data removed]",
      "text/plain": [
       "<Figure size 640x400 with 1 Axes>"
      ]
     },
     "metadata": {
      "needs_background": "light"
     },
     "output_type": "display_data"
    }
   ],
   "source": [
    "figure(figsize=(8, 5), dpi=80)\n",
    "jobs[jobs['wealth_segment'] == 'Affluent Customer'].value_counts().plot(kind = 'bar');\n",
    "plt.xticks(rotation = 90);"
   ]
  },
  {
   "cell_type": "markdown",
   "id": "141975e8",
   "metadata": {},
   "source": [
    "#### Creating some masks to further explore the data"
   ]
  },
  {
   "cell_type": "code",
   "execution_count": 17,
   "id": "550eddc6",
   "metadata": {},
   "outputs": [],
   "source": [
    "high_net_worth = customer_demographic[customer_demographic['wealth_segment'] == 'High Net Worth']"
   ]
  },
  {
   "cell_type": "code",
   "execution_count": 18,
   "id": "0ae34cfc",
   "metadata": {},
   "outputs": [
    {
     "data": {
      "text/html": [
       "<div>\n",
       "<style scoped>\n",
       "    .dataframe tbody tr th:only-of-type {\n",
       "        vertical-align: middle;\n",
       "    }\n",
       "\n",
       "    .dataframe tbody tr th {\n",
       "        vertical-align: top;\n",
       "    }\n",
       "\n",
       "    .dataframe thead th {\n",
       "        text-align: right;\n",
       "    }\n",
       "</style>\n",
       "<table border=\"1\" class=\"dataframe\">\n",
       "  <thead>\n",
       "    <tr style=\"text-align: right;\">\n",
       "      <th></th>\n",
       "      <th>first_name</th>\n",
       "      <th>last_name</th>\n",
       "      <th>gender</th>\n",
       "      <th>job_title</th>\n",
       "      <th>job_industry_category</th>\n",
       "      <th>wealth_segment</th>\n",
       "    </tr>\n",
       "  </thead>\n",
       "  <tbody>\n",
       "    <tr>\n",
       "      <th>count</th>\n",
       "      <td>674</td>\n",
       "      <td>674</td>\n",
       "      <td>674</td>\n",
       "      <td>674</td>\n",
       "      <td>674</td>\n",
       "      <td>674</td>\n",
       "    </tr>\n",
       "    <tr>\n",
       "      <th>unique</th>\n",
       "      <td>643</td>\n",
       "      <td>670</td>\n",
       "      <td>2</td>\n",
       "      <td>171</td>\n",
       "      <td>9</td>\n",
       "      <td>1</td>\n",
       "    </tr>\n",
       "    <tr>\n",
       "      <th>top</th>\n",
       "      <td>Jareb</td>\n",
       "      <td>Coxhell</td>\n",
       "      <td>F</td>\n",
       "      <td>Cost Accountant</td>\n",
       "      <td>Financial Services</td>\n",
       "      <td>High Net Worth</td>\n",
       "    </tr>\n",
       "    <tr>\n",
       "      <th>freq</th>\n",
       "      <td>2</td>\n",
       "      <td>2</td>\n",
       "      <td>359</td>\n",
       "      <td>13</td>\n",
       "      <td>166</td>\n",
       "      <td>674</td>\n",
       "    </tr>\n",
       "  </tbody>\n",
       "</table>\n",
       "</div>"
      ],
      "text/plain": [
       "       first_name last_name gender        job_title job_industry_category  \\\n",
       "count         674       674    674              674                   674   \n",
       "unique        643       670      2              171                     9   \n",
       "top         Jareb   Coxhell      F  Cost Accountant    Financial Services   \n",
       "freq            2         2    359               13                   166   \n",
       "\n",
       "        wealth_segment  \n",
       "count              674  \n",
       "unique               1  \n",
       "top     High Net Worth  \n",
       "freq               674  "
      ]
     },
     "execution_count": 18,
     "metadata": {},
     "output_type": "execute_result"
    }
   ],
   "source": [
    "high_net_worth.describe(include = object)"
   ]
  },
  {
   "cell_type": "code",
   "execution_count": 19,
   "id": "a2058d75",
   "metadata": {},
   "outputs": [
    {
     "data": {
      "text/plain": [
       "job_title                job_industry_category\n",
       "Cost Accountant          Financial Services       13\n",
       "Dental Hygienist         Health                   12\n",
       "Electrical Engineer      Manufacturing            11\n",
       "Chemical Engineer        Manufacturing             9\n",
       "Paralegal                Financial Services        9\n",
       "Sales Representative     Retail                    9\n",
       "Food Chemist             Health                    9\n",
       "Geological Engineer      Manufacturing             8\n",
       "Librarian                Entertainment             8\n",
       "Assistant Media Planner  Entertainment             8\n",
       "dtype: int64"
      ]
     },
     "execution_count": 19,
     "metadata": {},
     "output_type": "execute_result"
    },
    {
     "data": {
      "text/plain": [
       "<Figure size 640x400 with 0 Axes>"
      ]
     },
     "metadata": {},
     "output_type": "display_data"
    }
   ],
   "source": [
    "figure(figsize=(8, 5), dpi=80)\n",
    "high_net_worth[['job_title', 'job_industry_category']].value_counts().head(10)"
   ]
  },
  {
   "cell_type": "code",
   "execution_count": 20,
   "id": "fb6e8996",
   "metadata": {
    "scrolled": true
   },
   "outputs": [
    {
     "data": {
      "text/html": [
       "<div>\n",
       "<style scoped>\n",
       "    .dataframe tbody tr th:only-of-type {\n",
       "        vertical-align: middle;\n",
       "    }\n",
       "\n",
       "    .dataframe tbody tr th {\n",
       "        vertical-align: top;\n",
       "    }\n",
       "\n",
       "    .dataframe thead th {\n",
       "        text-align: right;\n",
       "    }\n",
       "</style>\n",
       "<table border=\"1\" class=\"dataframe\">\n",
       "  <thead>\n",
       "    <tr style=\"text-align: right;\">\n",
       "      <th></th>\n",
       "      <th>first_name</th>\n",
       "      <th>last_name</th>\n",
       "      <th>gender</th>\n",
       "      <th>past_3_years_bike_related_purchases</th>\n",
       "      <th>DOB</th>\n",
       "      <th>job_title</th>\n",
       "      <th>job_industry_category</th>\n",
       "      <th>wealth_segment</th>\n",
       "      <th>deceased_indicator</th>\n",
       "      <th>owns_car</th>\n",
       "      <th>tenure</th>\n",
       "      <th>age</th>\n",
       "    </tr>\n",
       "    <tr>\n",
       "      <th>customer_id</th>\n",
       "      <th></th>\n",
       "      <th></th>\n",
       "      <th></th>\n",
       "      <th></th>\n",
       "      <th></th>\n",
       "      <th></th>\n",
       "      <th></th>\n",
       "      <th></th>\n",
       "      <th></th>\n",
       "      <th></th>\n",
       "      <th></th>\n",
       "      <th></th>\n",
       "    </tr>\n",
       "  </thead>\n",
       "  <tbody>\n",
       "    <tr>\n",
       "      <th>1</th>\n",
       "      <td>Laraine</td>\n",
       "      <td>Medendorp</td>\n",
       "      <td>F</td>\n",
       "      <td>93</td>\n",
       "      <td>1953-10-12</td>\n",
       "      <td>Executive Secretary</td>\n",
       "      <td>Health</td>\n",
       "      <td>Mass Customer</td>\n",
       "      <td>0</td>\n",
       "      <td>1</td>\n",
       "      <td>11</td>\n",
       "      <td>68</td>\n",
       "    </tr>\n",
       "    <tr>\n",
       "      <th>2</th>\n",
       "      <td>Eli</td>\n",
       "      <td>Bockman</td>\n",
       "      <td>M</td>\n",
       "      <td>81</td>\n",
       "      <td>1980-12-16</td>\n",
       "      <td>Administrative Officer</td>\n",
       "      <td>Financial Services</td>\n",
       "      <td>Mass Customer</td>\n",
       "      <td>0</td>\n",
       "      <td>1</td>\n",
       "      <td>16</td>\n",
       "      <td>40</td>\n",
       "    </tr>\n",
       "    <tr>\n",
       "      <th>3</th>\n",
       "      <td>Arlin</td>\n",
       "      <td>Dearle</td>\n",
       "      <td>M</td>\n",
       "      <td>61</td>\n",
       "      <td>1954-01-20</td>\n",
       "      <td>Recruiting Manager</td>\n",
       "      <td>Property</td>\n",
       "      <td>Mass Customer</td>\n",
       "      <td>0</td>\n",
       "      <td>1</td>\n",
       "      <td>15</td>\n",
       "      <td>67</td>\n",
       "    </tr>\n",
       "    <tr>\n",
       "      <th>10</th>\n",
       "      <td>Fiorenze</td>\n",
       "      <td>Birdall</td>\n",
       "      <td>F</td>\n",
       "      <td>49</td>\n",
       "      <td>1988-10-11</td>\n",
       "      <td>Senior Quality Engineer</td>\n",
       "      <td>Financial Services</td>\n",
       "      <td>Mass Customer</td>\n",
       "      <td>0</td>\n",
       "      <td>1</td>\n",
       "      <td>20</td>\n",
       "      <td>33</td>\n",
       "    </tr>\n",
       "    <tr>\n",
       "      <th>12</th>\n",
       "      <td>Sawyere</td>\n",
       "      <td>Flattman</td>\n",
       "      <td>M</td>\n",
       "      <td>58</td>\n",
       "      <td>1994-07-21</td>\n",
       "      <td>Nuclear Power Engineer</td>\n",
       "      <td>Manufacturing</td>\n",
       "      <td>Mass Customer</td>\n",
       "      <td>0</td>\n",
       "      <td>0</td>\n",
       "      <td>8</td>\n",
       "      <td>27</td>\n",
       "    </tr>\n",
       "  </tbody>\n",
       "</table>\n",
       "</div>"
      ],
      "text/plain": [
       "            first_name  last_name gender  past_3_years_bike_related_purchases  \\\n",
       "customer_id                                                                     \n",
       "1              Laraine  Medendorp      F                                   93   \n",
       "2                  Eli    Bockman      M                                   81   \n",
       "3                Arlin     Dearle      M                                   61   \n",
       "10            Fiorenze    Birdall      F                                   49   \n",
       "12             Sawyere   Flattman      M                                   58   \n",
       "\n",
       "                   DOB                job_title job_industry_category  \\\n",
       "customer_id                                                             \n",
       "1           1953-10-12      Executive Secretary                Health   \n",
       "2           1980-12-16   Administrative Officer    Financial Services   \n",
       "3           1954-01-20       Recruiting Manager              Property   \n",
       "10          1988-10-11  Senior Quality Engineer    Financial Services   \n",
       "12          1994-07-21   Nuclear Power Engineer         Manufacturing   \n",
       "\n",
       "            wealth_segment  deceased_indicator  owns_car  tenure  age  \n",
       "customer_id                                                            \n",
       "1            Mass Customer                   0         1      11   68  \n",
       "2            Mass Customer                   0         1      16   40  \n",
       "3            Mass Customer                   0         1      15   67  \n",
       "10           Mass Customer                   0         1      20   33  \n",
       "12           Mass Customer                   0         0       8   27  "
      ]
     },
     "execution_count": 20,
     "metadata": {},
     "output_type": "execute_result"
    }
   ],
   "source": [
    "mass_customer = customer_demographic[customer_demographic['wealth_segment'] == 'Mass Customer']\n",
    "mass_customer.head()"
   ]
  },
  {
   "cell_type": "code",
   "execution_count": 21,
   "id": "26cc815d",
   "metadata": {},
   "outputs": [
    {
     "data": {
      "text/plain": [
       "job_title                 job_industry_category\n",
       "Chemical Engineer         Manufacturing            21\n",
       "Social Worker             Health                   20\n",
       "Registered Nurse          Health                   18\n",
       "Research Nurse            Health                   18\n",
       "Compensation Analyst      Financial Services       17\n",
       "Pharmacist                Health                   17\n",
       "VP Accounting             Financial Services       17\n",
       "Sales Representative      Retail                   17\n",
       "Senior Financial Analyst  Financial Services       17\n",
       "Assistant Media Planner   Entertainment            16\n",
       "dtype: int64"
      ]
     },
     "execution_count": 21,
     "metadata": {},
     "output_type": "execute_result"
    }
   ],
   "source": [
    "mass_customer[['job_title', 'job_industry_category']].value_counts().head(10)"
   ]
  },
  {
   "cell_type": "code",
   "execution_count": 22,
   "id": "22f398ba",
   "metadata": {},
   "outputs": [
    {
     "data": {
      "text/plain": [
       "job_title                 job_industry_category\n",
       "Social Worker             Health                   11\n",
       "Sales Representative      Retail                   10\n",
       "Paralegal                 Financial Services       10\n",
       "Food Chemist              Health                   10\n",
       "Registered Nurse          Health                    9\n",
       "Senior Financial Analyst  Financial Services        9\n",
       "Nuclear Power Engineer    Manufacturing             9\n",
       "Research Nurse            Health                    8\n",
       "Compensation Analyst      Financial Services        8\n",
       "Librarian                 Entertainment             8\n",
       "dtype: int64"
      ]
     },
     "execution_count": 22,
     "metadata": {},
     "output_type": "execute_result"
    }
   ],
   "source": [
    "affluent_customer = customer_demographic[customer_demographic['wealth_segment'] == 'Affluent Customer']\n",
    "affluent_customer[['job_title', 'job_industry_category']].value_counts().head(10)"
   ]
  },
  {
   "cell_type": "code",
   "execution_count": 23,
   "id": "831fb572",
   "metadata": {
    "scrolled": true
   },
   "outputs": [
    {
     "data": {
      "text/plain": [
       "gender\n",
       "F    50.101266\n",
       "M    49.602941\n",
       "Name: past_3_years_bike_related_purchases, dtype: float64"
      ]
     },
     "execution_count": 23,
     "metadata": {},
     "output_type": "execute_result"
    }
   ],
   "source": [
    "gender_affluent = affluent_customer.groupby('gender');\n",
    "gender_affluent.past_3_years_bike_related_purchases.mean()"
   ]
  },
  {
   "cell_type": "code",
   "execution_count": 24,
   "id": "3c30ab47",
   "metadata": {},
   "outputs": [
    {
     "data": {
      "text/plain": [
       "gender  wealth_segment   \n",
       "F       Mass Customer        693\n",
       "        High Net Worth       359\n",
       "        Affluent Customer    316\n",
       "M       Mass Customer        607\n",
       "        Affluent Customer    340\n",
       "        High Net Worth       315\n",
       "Name: wealth_segment, dtype: int64"
      ]
     },
     "execution_count": 24,
     "metadata": {},
     "output_type": "execute_result"
    }
   ],
   "source": [
    "gendered = customer_demographic.groupby('gender')\n",
    "gendered.wealth_segment.value_counts()"
   ]
  },
  {
   "cell_type": "code",
   "execution_count": 25,
   "id": "cdeb31e2",
   "metadata": {},
   "outputs": [
    {
     "data": {
      "text/plain": [
       "gender\n",
       "F    48.268275\n",
       "M    50.550713\n",
       "Name: past_3_years_bike_related_purchases, dtype: float64"
      ]
     },
     "execution_count": 25,
     "metadata": {},
     "output_type": "execute_result"
    }
   ],
   "source": [
    "gendered.past_3_years_bike_related_purchases.mean()"
   ]
  },
  {
   "cell_type": "code",
   "execution_count": 26,
   "id": "3a39b812",
   "metadata": {},
   "outputs": [
    {
     "data": {
      "text/plain": [
       "gender\n",
       "F    48.0\n",
       "M    49.5\n",
       "Name: past_3_years_bike_related_purchases, dtype: float64"
      ]
     },
     "execution_count": 26,
     "metadata": {},
     "output_type": "execute_result"
    }
   ],
   "source": [
    "gendered.past_3_years_bike_related_purchases.median()"
   ]
  },
  {
   "cell_type": "code",
   "execution_count": 27,
   "id": "f13031c6",
   "metadata": {},
   "outputs": [],
   "source": [
    "#This may mean that men in general make more purchases than women but needs further investigation"
   ]
  },
  {
   "cell_type": "code",
   "execution_count": 28,
   "id": "bcdd8dc1",
   "metadata": {},
   "outputs": [
    {
     "data": {
      "text/plain": [
       "gender  wealth_segment   \n",
       "F       Affluent Customer    50\n",
       "        High Net Worth       47\n",
       "        Mass Customer        47\n",
       "M       Affluent Customer    48\n",
       "        High Net Worth       47\n",
       "        Mass Customer        53\n",
       "Name: past_3_years_bike_related_purchases, dtype: int64"
      ]
     },
     "execution_count": 28,
     "metadata": {},
     "output_type": "execute_result"
    }
   ],
   "source": [
    "customer_demographic.groupby(['gender', 'wealth_segment']).past_3_years_bike_related_purchases.median()"
   ]
  },
  {
   "cell_type": "code",
   "execution_count": 29,
   "id": "fb760d58",
   "metadata": {},
   "outputs": [
    {
     "data": {
      "text/plain": [
       "gender  wealth_segment     owns_car\n",
       "F       Affluent Customer  1           171\n",
       "                           0           145\n",
       "        High Net Worth     1           186\n",
       "                           0           173\n",
       "        Mass Customer      1           357\n",
       "                           0           336\n",
       "M       Affluent Customer  1           183\n",
       "                           0           157\n",
       "        High Net Worth     1           165\n",
       "                           0           150\n",
       "        Mass Customer      0           308\n",
       "                           1           299\n",
       "Name: owns_car, dtype: int64"
      ]
     },
     "execution_count": 29,
     "metadata": {},
     "output_type": "execute_result"
    }
   ],
   "source": [
    "customer_demographic.groupby(['gender', 'wealth_segment']).owns_car.value_counts()"
   ]
  },
  {
   "cell_type": "code",
   "execution_count": 30,
   "id": "c2a5fe04",
   "metadata": {},
   "outputs": [
    {
     "data": {
      "text/plain": [
       "gender  wealth_segment     owns_car\n",
       "F       Affluent Customer  0           47.0\n",
       "                           1           51.0\n",
       "        High Net Worth     0           46.0\n",
       "                           1           47.0\n",
       "        Mass Customer      0           45.5\n",
       "                           1           49.0\n",
       "M       Affluent Customer  0           46.0\n",
       "                           1           49.0\n",
       "        High Net Worth     0           45.0\n",
       "                           1           49.0\n",
       "        Mass Customer      0           54.0\n",
       "                           1           51.0\n",
       "Name: past_3_years_bike_related_purchases, dtype: float64"
      ]
     },
     "execution_count": 30,
     "metadata": {},
     "output_type": "execute_result"
    }
   ],
   "source": [
    "customer_demographic.groupby(['gender', 'wealth_segment', 'owns_car']).past_3_years_bike_related_purchases.median()\n",
    "#this is odd as I thought that owning a car would mean that you wouldn't use the bike as much and it actually not that way is for\n",
    "#the females but for the males the rule does not hold except for the male mass Customers it holds"
   ]
  },
  {
   "cell_type": "markdown",
   "id": "71e99a6b",
   "metadata": {},
   "source": [
    "#### From the previous plots it seems like that the bulk of customers are working in the Manufacturing and the Financial services fields "
   ]
  },
  {
   "cell_type": "code",
   "execution_count": 31,
   "id": "9eccb60f",
   "metadata": {},
   "outputs": [],
   "source": [
    "wealth_segment_gendered = customer_demographic.groupby(['wealth_segment', 'gender'])"
   ]
  },
  {
   "cell_type": "code",
   "execution_count": 32,
   "id": "9489b185",
   "metadata": {},
   "outputs": [
    {
     "data": {
      "text/plain": [
       "wealth_segment     gender  past_3_years_bike_related_purchases\n",
       "Affluent Customer  F       16                                     8\n",
       "                           2                                      7\n",
       "                           67                                     7\n",
       "                           76                                     7\n",
       "                           91                                     7\n",
       "                                                                 ..\n",
       "Mass Customer      M       24                                     2\n",
       "                           49                                     2\n",
       "                           57                                     2\n",
       "                           28                                     1\n",
       "                           71                                     1\n",
       "Name: past_3_years_bike_related_purchases, Length: 588, dtype: int64"
      ]
     },
     "execution_count": 32,
     "metadata": {},
     "output_type": "execute_result"
    }
   ],
   "source": [
    "wealth_segment_gendered.past_3_years_bike_related_purchases.value_counts()"
   ]
  },
  {
   "cell_type": "code",
   "execution_count": 33,
   "id": "55995ab6",
   "metadata": {},
   "outputs": [
    {
     "data": {
      "text/plain": [
       "3.5416666666666665"
      ]
     },
     "execution_count": 33,
     "metadata": {},
     "output_type": "execute_result"
    }
   ],
   "source": [
    "wealth_segment_gendered.past_3_years_bike_related_purchases.value_counts()['Affluent Customer']['M'].mean()"
   ]
  },
  {
   "cell_type": "code",
   "execution_count": 34,
   "id": "bf5d8a1a",
   "metadata": {},
   "outputs": [
    {
     "data": {
      "text/plain": [
       "3.2244897959183674"
      ]
     },
     "execution_count": 34,
     "metadata": {},
     "output_type": "execute_result"
    }
   ],
   "source": [
    "wealth_segment_gendered.past_3_years_bike_related_purchases.value_counts()['Affluent Customer']['F'].mean()"
   ]
  },
  {
   "cell_type": "markdown",
   "id": "c7f11843",
   "metadata": {},
   "source": [
    "##### From this we conclude that the mean of the men who are Affluent Customer is higher than the female customers "
   ]
  },
  {
   "cell_type": "code",
   "execution_count": 35,
   "id": "2003e67a",
   "metadata": {},
   "outputs": [
    {
     "data": {
      "text/plain": [
       "count    194.000000\n",
       "mean       3.381443\n",
       "std        1.669248\n",
       "min        1.000000\n",
       "25%        2.000000\n",
       "50%        3.000000\n",
       "75%        4.000000\n",
       "max        8.000000\n",
       "Name: past_3_years_bike_related_purchases, dtype: float64"
      ]
     },
     "execution_count": 35,
     "metadata": {},
     "output_type": "execute_result"
    }
   ],
   "source": [
    "wealth_segment_gendered.past_3_years_bike_related_purchases.value_counts()['Affluent Customer'].describe()"
   ]
  },
  {
   "cell_type": "code",
   "execution_count": 36,
   "id": "685849b5",
   "metadata": {},
   "outputs": [
    {
     "data": {
      "text/plain": [
       "count    200.000000\n",
       "mean       6.500000\n",
       "std        2.654284\n",
       "min        1.000000\n",
       "25%        5.000000\n",
       "50%        6.000000\n",
       "75%        8.000000\n",
       "max       16.000000\n",
       "Name: past_3_years_bike_related_purchases, dtype: float64"
      ]
     },
     "execution_count": 36,
     "metadata": {},
     "output_type": "execute_result"
    }
   ],
   "source": [
    "wealth_segment_gendered.past_3_years_bike_related_purchases.value_counts()['Mass Customer'].describe()"
   ]
  },
  {
   "cell_type": "code",
   "execution_count": 37,
   "id": "5a0a0b64",
   "metadata": {},
   "outputs": [
    {
     "data": {
      "text/plain": [
       "count    194.000000\n",
       "mean       3.474227\n",
       "std        1.841338\n",
       "min        1.000000\n",
       "25%        2.000000\n",
       "50%        3.000000\n",
       "75%        5.000000\n",
       "max       10.000000\n",
       "Name: past_3_years_bike_related_purchases, dtype: float64"
      ]
     },
     "execution_count": 37,
     "metadata": {},
     "output_type": "execute_result"
    }
   ],
   "source": [
    "wealth_segment_gendered.past_3_years_bike_related_purchases.value_counts()['High Net Worth'].describe()"
   ]
  },
  {
   "cell_type": "markdown",
   "id": "0bb4d0c6",
   "metadata": {},
   "source": [
    "### From this we conclude that the 'Mass Customer' category is the highest in purchases for the past 3 years"
   ]
  },
  {
   "cell_type": "code",
   "execution_count": 38,
   "id": "7cb35ab4",
   "metadata": {},
   "outputs": [],
   "source": [
    "wealth_gender_jobCat = customer_demographic.groupby(['wealth_segment', 'gender', 'job_industry_category'])\n",
    "m = wealth_gender_jobCat.past_3_years_bike_related_purchases.value_counts()['Mass Customer']['M']\n",
    "f = wealth_gender_jobCat.past_3_years_bike_related_purchases.value_counts()['Mass Customer']['F']"
   ]
  },
  {
   "cell_type": "code",
   "execution_count": 39,
   "id": "ed96001e",
   "metadata": {},
   "outputs": [
    {
     "data": {
      "text/plain": [
       "gender  job_industry_category  past_3_years_bike_related_purchases\n",
       "F       Argiculture            2                                      2\n",
       "                               7                                      1\n",
       "                               11                                     1\n",
       "                               16                                     1\n",
       "                               22                                     1\n",
       "                                                                     ..\n",
       "M       Telecommunications     48                                     1\n",
       "                               58                                     1\n",
       "                               85                                     1\n",
       "                               90                                     1\n",
       "                               95                                     1\n",
       "Name: past_3_years_bike_related_purchases, Length: 786, dtype: int64"
      ]
     },
     "execution_count": 39,
     "metadata": {},
     "output_type": "execute_result"
    }
   ],
   "source": [
    "#wealth_gender_jobCat.job_industry_category.count()\n",
    "wealth_gender_jobCat.past_3_years_bike_related_purchases.value_counts()['Mass Customer']"
   ]
  },
  {
   "cell_type": "code",
   "execution_count": 44,
   "id": "2ad32647",
   "metadata": {},
   "outputs": [],
   "source": [
    "def means_of_industry(m, industries):\n",
    "    '''\n",
    "    takes in the name of the industry and returns the mean\n",
    "    '''\n",
    "    means = {}\n",
    "    mean = 0\n",
    "    #mean = sum(m[industry].keys() * m[industry].values)/len(m[industry].keys() * m[industry].values)\n",
    "    for industry in industries:\n",
    "        mean = sum(m[industry].keys() * m[industry].values)/len(m[industry].keys() * m[industry].values)\n",
    "        means[industry] = mean\n",
    "    return means\n",
    "    "
   ]
  },
  {
   "cell_type": "code",
   "execution_count": 45,
   "id": "12a40787",
   "metadata": {},
   "outputs": [],
   "source": [
    "male_means_industry_purchases = {}\n",
    "male_means_industry_purchases = means_of_industry(m, customer_demographic.job_industry_category.unique())\n",
    "female_means_industry_purchases = means_of_industry(f, customer_demographic.job_industry_category.unique())"
   ]
  },
  {
   "cell_type": "code",
   "execution_count": 47,
   "id": "0db540f5",
   "metadata": {},
   "outputs": [
    {
     "data": {
      "text/plain": [
       "{'Health': 97.39682539682539,\n",
       " 'Financial Services': 95.12048192771084,\n",
       " 'Property': 67.47058823529412,\n",
       " 'Argiculture': 71.07142857142857,\n",
       " 'Manufacturing': 99.09876543209876,\n",
       " 'Telecommunications': 46.166666666666664,\n",
       " 'Entertainment': 62.56521739130435,\n",
       " 'Retail': 75.1891891891892,\n",
       " 'IT': 65.57692307692308}"
      ]
     },
     "execution_count": 47,
     "metadata": {},
     "output_type": "execute_result"
    }
   ],
   "source": [
    "male_means_industry_purchases"
   ]
  },
  {
   "cell_type": "code",
   "execution_count": 48,
   "id": "680a7ab6",
   "metadata": {},
   "outputs": [
    {
     "data": {
      "text/plain": [
       "{'Health': 86.33333333333333,\n",
       " 'Financial Services': 88.3896103896104,\n",
       " 'Property': 70.34042553191489,\n",
       " 'Argiculture': 50.17391304347826,\n",
       " 'Manufacturing': 98.59036144578313,\n",
       " 'Telecommunications': 55.416666666666664,\n",
       " 'Entertainment': 54.523809523809526,\n",
       " 'Retail': 78.875,\n",
       " 'IT': 52.8421052631579}"
      ]
     },
     "execution_count": 48,
     "metadata": {},
     "output_type": "execute_result"
    }
   ],
   "source": [
    "female_means_industry_purchases"
   ]
  },
  {
   "cell_type": "markdown",
   "id": "35f88aab",
   "metadata": {},
   "source": [
    "### Now we analyze the transactions dataframe"
   ]
  },
  {
   "cell_type": "code",
   "execution_count": 49,
   "id": "0a630505",
   "metadata": {},
   "outputs": [
    {
     "name": "stdout",
     "output_type": "stream",
     "text": [
      "<class 'pandas.core.frame.DataFrame'>\n",
      "RangeIndex: 19445 entries, 0 to 19444\n",
      "Data columns (total 13 columns):\n",
      " #   Column                   Non-Null Count  Dtype         \n",
      "---  ------                   --------------  -----         \n",
      " 0   transaction_id           19445 non-null  int64         \n",
      " 1   product_id               19445 non-null  int64         \n",
      " 2   customer_id              19445 non-null  int64         \n",
      " 3   transaction_date         19445 non-null  datetime64[ns]\n",
      " 4   online_order             19445 non-null  bool          \n",
      " 5   order_status             19445 non-null  object        \n",
      " 6   brand                    19445 non-null  object        \n",
      " 7   product_line             19445 non-null  object        \n",
      " 8   product_class            19445 non-null  object        \n",
      " 9   product_size             19445 non-null  object        \n",
      " 10  list_price               19445 non-null  float64       \n",
      " 11  standard_cost            19445 non-null  float64       \n",
      " 12  product_first_sold_date  19445 non-null  datetime64[ns]\n",
      "dtypes: bool(1), datetime64[ns](2), float64(2), int64(3), object(5)\n",
      "memory usage: 1.8+ MB\n"
     ]
    }
   ],
   "source": [
    "transactions.info()"
   ]
  },
  {
   "cell_type": "code",
   "execution_count": 50,
   "id": "ce90e764",
   "metadata": {},
   "outputs": [
    {
     "data": {
      "image/png": "[encoded data removed]",
      "text/plain": [
       "<Figure size 432x288 with 1 Axes>"
      ]
     },
     "metadata": {
      "needs_background": "light"
     },
     "output_type": "display_data"
    }
   ],
   "source": [
    "(transactions.groupby('brand').list_price.mean() - transactions.groupby('brand').standard_cost.mean()).sort_values(ascending = False).plot(kind = 'bar',)\n",
    "plt.xticks(rotation = 90);\n",
    "#the difference between the listing price mean and the standard cost mean aka. production cost "
   ]
  },
  {
   "cell_type": "code",
   "execution_count": 51,
   "id": "5aea8dfb",
   "metadata": {},
   "outputs": [
    {
     "data": {
      "image/png": "[encoded data removed]",
      "text/plain": [
       "<Figure size 432x288 with 1 Axes>"
      ]
     },
     "metadata": {
      "needs_background": "light"
     },
     "output_type": "display_data"
    }
   ],
   "source": [
    "(transactions.groupby('brand').list_price.median() - transactions.groupby('brand').standard_cost.median()).sort_values(ascending = False).plot(kind = 'bar',)\n",
    "plt.xticks(rotation = 90);"
   ]
  },
  {
   "cell_type": "markdown",
   "id": "deffb15d",
   "metadata": {},
   "source": [
    "#### This seems odd as the two plots are not the same this might mean that there are some outliers affecting the mean, needs further investigation    "
   ]
  },
  {
   "cell_type": "code",
   "execution_count": 52,
   "id": "8d42d800",
   "metadata": {},
   "outputs": [
    {
     "data": {
      "text/html": [
       "<div>\n",
       "<style scoped>\n",
       "    .dataframe tbody tr th:only-of-type {\n",
       "        vertical-align: middle;\n",
       "    }\n",
       "\n",
       "    .dataframe tbody tr th {\n",
       "        vertical-align: top;\n",
       "    }\n",
       "\n",
       "    .dataframe thead th {\n",
       "        text-align: right;\n",
       "    }\n",
       "</style>\n",
       "<table border=\"1\" class=\"dataframe\">\n",
       "  <thead>\n",
       "    <tr style=\"text-align: right;\">\n",
       "      <th></th>\n",
       "      <th>count</th>\n",
       "      <th>mean</th>\n",
       "      <th>std</th>\n",
       "      <th>min</th>\n",
       "      <th>25%</th>\n",
       "      <th>50%</th>\n",
       "      <th>75%</th>\n",
       "      <th>max</th>\n",
       "    </tr>\n",
       "    <tr>\n",
       "      <th>brand</th>\n",
       "      <th></th>\n",
       "      <th></th>\n",
       "      <th></th>\n",
       "      <th></th>\n",
       "      <th></th>\n",
       "      <th></th>\n",
       "      <th></th>\n",
       "      <th></th>\n",
       "    </tr>\n",
       "  </thead>\n",
       "  <tbody>\n",
       "    <tr>\n",
       "      <th>Giant Bicycles</th>\n",
       "      <td>3244.0</td>\n",
       "      <td>1235.269547</td>\n",
       "      <td>505.690117</td>\n",
       "      <td>230.91</td>\n",
       "      <td>792.90</td>\n",
       "      <td>1311.44</td>\n",
       "      <td>1635.30</td>\n",
       "      <td>1977.36</td>\n",
       "    </tr>\n",
       "    <tr>\n",
       "      <th>Norco Bicycles</th>\n",
       "      <td>2863.0</td>\n",
       "      <td>913.015830</td>\n",
       "      <td>404.282192</td>\n",
       "      <td>360.40</td>\n",
       "      <td>544.05</td>\n",
       "      <td>958.74</td>\n",
       "      <td>1216.14</td>\n",
       "      <td>1661.92</td>\n",
       "    </tr>\n",
       "    <tr>\n",
       "      <th>OHM Cycles</th>\n",
       "      <td>2993.0</td>\n",
       "      <td>980.625573</td>\n",
       "      <td>650.854278</td>\n",
       "      <td>12.01</td>\n",
       "      <td>235.63</td>\n",
       "      <td>1073.07</td>\n",
       "      <td>1636.90</td>\n",
       "      <td>2005.66</td>\n",
       "    </tr>\n",
       "    <tr>\n",
       "      <th>Solex</th>\n",
       "      <td>4169.0</td>\n",
       "      <td>1055.060134</td>\n",
       "      <td>605.242741</td>\n",
       "      <td>71.49</td>\n",
       "      <td>478.16</td>\n",
       "      <td>1071.23</td>\n",
       "      <td>1577.53</td>\n",
       "      <td>2083.94</td>\n",
       "    </tr>\n",
       "    <tr>\n",
       "      <th>Trek Bicycles</th>\n",
       "      <td>2931.0</td>\n",
       "      <td>1185.523374</td>\n",
       "      <td>645.761649</td>\n",
       "      <td>290.62</td>\n",
       "      <td>533.51</td>\n",
       "      <td>1057.51</td>\n",
       "      <td>1775.81</td>\n",
       "      <td>2091.47</td>\n",
       "    </tr>\n",
       "    <tr>\n",
       "      <th>WeareA2B</th>\n",
       "      <td>3245.0</td>\n",
       "      <td>1264.303834</td>\n",
       "      <td>546.665957</td>\n",
       "      <td>60.34</td>\n",
       "      <td>1065.03</td>\n",
       "      <td>1292.84</td>\n",
       "      <td>1762.96</td>\n",
       "      <td>1992.93</td>\n",
       "    </tr>\n",
       "  </tbody>\n",
       "</table>\n",
       "</div>"
      ],
      "text/plain": [
       "                 count         mean         std     min      25%      50%  \\\n",
       "brand                                                                       \n",
       "Giant Bicycles  3244.0  1235.269547  505.690117  230.91   792.90  1311.44   \n",
       "Norco Bicycles  2863.0   913.015830  404.282192  360.40   544.05   958.74   \n",
       "OHM Cycles      2993.0   980.625573  650.854278   12.01   235.63  1073.07   \n",
       "Solex           4169.0  1055.060134  605.242741   71.49   478.16  1071.23   \n",
       "Trek Bicycles   2931.0  1185.523374  645.761649  290.62   533.51  1057.51   \n",
       "WeareA2B        3245.0  1264.303834  546.665957   60.34  1065.03  1292.84   \n",
       "\n",
       "                    75%      max  \n",
       "brand                             \n",
       "Giant Bicycles  1635.30  1977.36  \n",
       "Norco Bicycles  1216.14  1661.92  \n",
       "OHM Cycles      1636.90  2005.66  \n",
       "Solex           1577.53  2083.94  \n",
       "Trek Bicycles   1775.81  2091.47  \n",
       "WeareA2B        1762.96  1992.93  "
      ]
     },
     "execution_count": 52,
     "metadata": {},
     "output_type": "execute_result"
    }
   ],
   "source": [
    "transactions.groupby('brand').list_price.describe()"
   ]
  },
  {
   "cell_type": "code",
   "execution_count": 53,
   "id": "715fa8dd",
   "metadata": {},
   "outputs": [
    {
     "data": {
      "text/html": [
       "<div>\n",
       "<style scoped>\n",
       "    .dataframe tbody tr th:only-of-type {\n",
       "        vertical-align: middle;\n",
       "    }\n",
       "\n",
       "    .dataframe tbody tr th {\n",
       "        vertical-align: top;\n",
       "    }\n",
       "\n",
       "    .dataframe thead th {\n",
       "        text-align: right;\n",
       "    }\n",
       "</style>\n",
       "<table border=\"1\" class=\"dataframe\">\n",
       "  <thead>\n",
       "    <tr style=\"text-align: right;\">\n",
       "      <th></th>\n",
       "      <th>count</th>\n",
       "      <th>mean</th>\n",
       "      <th>std</th>\n",
       "      <th>min</th>\n",
       "      <th>25%</th>\n",
       "      <th>50%</th>\n",
       "      <th>75%</th>\n",
       "      <th>max</th>\n",
       "    </tr>\n",
       "    <tr>\n",
       "      <th>brand</th>\n",
       "      <th></th>\n",
       "      <th></th>\n",
       "      <th></th>\n",
       "      <th></th>\n",
       "      <th></th>\n",
       "      <th></th>\n",
       "      <th></th>\n",
       "      <th></th>\n",
       "    </tr>\n",
       "  </thead>\n",
       "  <tbody>\n",
       "    <tr>\n",
       "      <th>Giant Bicycles</th>\n",
       "      <td>3244.0</td>\n",
       "      <td>760.187781</td>\n",
       "      <td>356.521811</td>\n",
       "      <td>173.18</td>\n",
       "      <td>582.48</td>\n",
       "      <td>709.48</td>\n",
       "      <td>954.82</td>\n",
       "      <td>1759.85</td>\n",
       "    </tr>\n",
       "    <tr>\n",
       "      <th>Norco Bicycles</th>\n",
       "      <td>2863.0</td>\n",
       "      <td>614.988718</td>\n",
       "      <td>322.165974</td>\n",
       "      <td>206.35</td>\n",
       "      <td>376.84</td>\n",
       "      <td>521.94</td>\n",
       "      <td>795.10</td>\n",
       "      <td>1479.11</td>\n",
       "    </tr>\n",
       "    <tr>\n",
       "      <th>OHM Cycles</th>\n",
       "      <td>2993.0</td>\n",
       "      <td>494.971607</td>\n",
       "      <td>482.589323</td>\n",
       "      <td>7.21</td>\n",
       "      <td>101.58</td>\n",
       "      <td>248.82</td>\n",
       "      <td>874.90</td>\n",
       "      <td>1610.90</td>\n",
       "    </tr>\n",
       "    <tr>\n",
       "      <th>Solex</th>\n",
       "      <td>4169.0</td>\n",
       "      <td>489.977293</td>\n",
       "      <td>360.156704</td>\n",
       "      <td>53.62</td>\n",
       "      <td>151.96</td>\n",
       "      <td>448.90</td>\n",
       "      <td>675.03</td>\n",
       "      <td>1516.13</td>\n",
       "    </tr>\n",
       "    <tr>\n",
       "      <th>Trek Bicycles</th>\n",
       "      <td>2931.0</td>\n",
       "      <td>568.900686</td>\n",
       "      <td>437.542495</td>\n",
       "      <td>154.40</td>\n",
       "      <td>297.43</td>\n",
       "      <td>388.92</td>\n",
       "      <td>598.76</td>\n",
       "      <td>1580.47</td>\n",
       "    </tr>\n",
       "    <tr>\n",
       "      <th>WeareA2B</th>\n",
       "      <td>3245.0</td>\n",
       "      <td>426.804394</td>\n",
       "      <td>377.330755</td>\n",
       "      <td>13.44</td>\n",
       "      <td>131.92</td>\n",
       "      <td>260.14</td>\n",
       "      <td>762.63</td>\n",
       "      <td>1259.36</td>\n",
       "    </tr>\n",
       "  </tbody>\n",
       "</table>\n",
       "</div>"
      ],
      "text/plain": [
       "                 count        mean         std     min     25%     50%  \\\n",
       "brand                                                                    \n",
       "Giant Bicycles  3244.0  760.187781  356.521811  173.18  582.48  709.48   \n",
       "Norco Bicycles  2863.0  614.988718  322.165974  206.35  376.84  521.94   \n",
       "OHM Cycles      2993.0  494.971607  482.589323    7.21  101.58  248.82   \n",
       "Solex           4169.0  489.977293  360.156704   53.62  151.96  448.90   \n",
       "Trek Bicycles   2931.0  568.900686  437.542495  154.40  297.43  388.92   \n",
       "WeareA2B        3245.0  426.804394  377.330755   13.44  131.92  260.14   \n",
       "\n",
       "                   75%      max  \n",
       "brand                            \n",
       "Giant Bicycles  954.82  1759.85  \n",
       "Norco Bicycles  795.10  1479.11  \n",
       "OHM Cycles      874.90  1610.90  \n",
       "Solex           675.03  1516.13  \n",
       "Trek Bicycles   598.76  1580.47  \n",
       "WeareA2B        762.63  1259.36  "
      ]
     },
     "execution_count": 53,
     "metadata": {},
     "output_type": "execute_result"
    }
   ],
   "source": [
    "transactions.groupby('brand').standard_cost.describe()"
   ]
  },
  {
   "cell_type": "code",
   "execution_count": 54,
   "id": "aa7793c5",
   "metadata": {},
   "outputs": [
    {
     "data": {
      "text/html": [
       "<div>\n",
       "<style scoped>\n",
       "    .dataframe tbody tr th:only-of-type {\n",
       "        vertical-align: middle;\n",
       "    }\n",
       "\n",
       "    .dataframe tbody tr th {\n",
       "        vertical-align: top;\n",
       "    }\n",
       "\n",
       "    .dataframe thead th {\n",
       "        text-align: right;\n",
       "    }\n",
       "</style>\n",
       "<table border=\"1\" class=\"dataframe\">\n",
       "  <thead>\n",
       "    <tr style=\"text-align: right;\">\n",
       "      <th></th>\n",
       "      <th>count</th>\n",
       "      <th>mean</th>\n",
       "      <th>std</th>\n",
       "      <th>min</th>\n",
       "      <th>25%</th>\n",
       "      <th>50%</th>\n",
       "      <th>75%</th>\n",
       "      <th>max</th>\n",
       "    </tr>\n",
       "    <tr>\n",
       "      <th>brand</th>\n",
       "      <th></th>\n",
       "      <th></th>\n",
       "      <th></th>\n",
       "      <th></th>\n",
       "      <th></th>\n",
       "      <th></th>\n",
       "      <th></th>\n",
       "      <th></th>\n",
       "    </tr>\n",
       "  </thead>\n",
       "  <tbody>\n",
       "    <tr>\n",
       "      <th>Giant Bicycles</th>\n",
       "      <td>0.0</td>\n",
       "      <td>475.081766</td>\n",
       "      <td>149.168306</td>\n",
       "      <td>57.73</td>\n",
       "      <td>210.42</td>\n",
       "      <td>601.96</td>\n",
       "      <td>680.48</td>\n",
       "      <td>217.51</td>\n",
       "    </tr>\n",
       "    <tr>\n",
       "      <th>Norco Bicycles</th>\n",
       "      <td>0.0</td>\n",
       "      <td>298.027111</td>\n",
       "      <td>82.116218</td>\n",
       "      <td>154.05</td>\n",
       "      <td>167.21</td>\n",
       "      <td>436.80</td>\n",
       "      <td>421.04</td>\n",
       "      <td>182.81</td>\n",
       "    </tr>\n",
       "    <tr>\n",
       "      <th>OHM Cycles</th>\n",
       "      <td>0.0</td>\n",
       "      <td>485.653966</td>\n",
       "      <td>168.264955</td>\n",
       "      <td>4.80</td>\n",
       "      <td>134.05</td>\n",
       "      <td>824.25</td>\n",
       "      <td>762.00</td>\n",
       "      <td>394.76</td>\n",
       "    </tr>\n",
       "    <tr>\n",
       "      <th>Solex</th>\n",
       "      <td>0.0</td>\n",
       "      <td>565.082841</td>\n",
       "      <td>245.086036</td>\n",
       "      <td>17.87</td>\n",
       "      <td>326.20</td>\n",
       "      <td>622.33</td>\n",
       "      <td>902.50</td>\n",
       "      <td>567.81</td>\n",
       "    </tr>\n",
       "    <tr>\n",
       "      <th>Trek Bicycles</th>\n",
       "      <td>0.0</td>\n",
       "      <td>616.622689</td>\n",
       "      <td>208.219154</td>\n",
       "      <td>136.22</td>\n",
       "      <td>236.08</td>\n",
       "      <td>668.59</td>\n",
       "      <td>1177.05</td>\n",
       "      <td>511.00</td>\n",
       "    </tr>\n",
       "    <tr>\n",
       "      <th>WeareA2B</th>\n",
       "      <td>0.0</td>\n",
       "      <td>837.499439</td>\n",
       "      <td>169.335202</td>\n",
       "      <td>46.90</td>\n",
       "      <td>933.11</td>\n",
       "      <td>1032.70</td>\n",
       "      <td>1000.33</td>\n",
       "      <td>733.57</td>\n",
       "    </tr>\n",
       "  </tbody>\n",
       "</table>\n",
       "</div>"
      ],
      "text/plain": [
       "                count        mean         std     min     25%      50%  \\\n",
       "brand                                                                    \n",
       "Giant Bicycles    0.0  475.081766  149.168306   57.73  210.42   601.96   \n",
       "Norco Bicycles    0.0  298.027111   82.116218  154.05  167.21   436.80   \n",
       "OHM Cycles        0.0  485.653966  168.264955    4.80  134.05   824.25   \n",
       "Solex             0.0  565.082841  245.086036   17.87  326.20   622.33   \n",
       "Trek Bicycles     0.0  616.622689  208.219154  136.22  236.08   668.59   \n",
       "WeareA2B          0.0  837.499439  169.335202   46.90  933.11  1032.70   \n",
       "\n",
       "                    75%     max  \n",
       "brand                            \n",
       "Giant Bicycles   680.48  217.51  \n",
       "Norco Bicycles   421.04  182.81  \n",
       "OHM Cycles       762.00  394.76  \n",
       "Solex            902.50  567.81  \n",
       "Trek Bicycles   1177.05  511.00  \n",
       "WeareA2B        1000.33  733.57  "
      ]
     },
     "execution_count": 54,
     "metadata": {},
     "output_type": "execute_result"
    }
   ],
   "source": [
    "transactions.groupby('brand').list_price.describe() - transactions.groupby('brand').standard_cost.describe()"
   ]
  },
  {
   "cell_type": "markdown",
   "id": "9bec11d8",
   "metadata": {},
   "source": [
    "#### From the previous table it looks legit that its not about outliers only that the mean of 'Trek Bicycles' is only larger than its median while all the rest brands' means are less than its median thats why there is a difference in the plots"
   ]
  },
  {
   "cell_type": "code",
   "execution_count": 55,
   "id": "b158fa73",
   "metadata": {},
   "outputs": [
    {
     "name": "stdout",
     "output_type": "stream",
     "text": [
      "<class 'pandas.core.frame.DataFrame'>\n",
      "RangeIndex: 715 entries, 0 to 714\n",
      "Data columns (total 19 columns):\n",
      " #   Column                               Non-Null Count  Dtype         \n",
      "---  ------                               --------------  -----         \n",
      " 0   first_name                           715 non-null    object        \n",
      " 1   last_name                            715 non-null    object        \n",
      " 2   gender                               715 non-null    object        \n",
      " 3   past_3_years_bike_related_purchases  715 non-null    int64         \n",
      " 4   DOB                                  715 non-null    datetime64[ns]\n",
      " 5   job_title                            715 non-null    object        \n",
      " 6   job_industry_category                715 non-null    object        \n",
      " 7   wealth_segment                       715 non-null    object        \n",
      " 8   deceased_indicator                   715 non-null    object        \n",
      " 9   owns_car                             715 non-null    bool          \n",
      " 10  tenure                               715 non-null    int64         \n",
      " 11  address                              715 non-null    object        \n",
      " 12  postcode                             715 non-null    int64         \n",
      " 13  state                                715 non-null    object        \n",
      " 14  country                              715 non-null    object        \n",
      " 15  property_valuation                   715 non-null    int64         \n",
      " 16  Rank                                 715 non-null    int64         \n",
      " 17  Value                                715 non-null    float64       \n",
      " 18  age                                  715 non-null    int64         \n",
      "dtypes: bool(1), datetime64[ns](1), float64(1), int64(6), object(10)\n",
      "memory usage: 101.4+ KB\n"
     ]
    }
   ],
   "source": [
    "new_customer_list.info()"
   ]
  },
  {
   "cell_type": "code",
   "execution_count": 56,
   "id": "e0381fc6",
   "metadata": {},
   "outputs": [],
   "source": [
    "new_customer_list.deceased_indicator = [1 if i == 'Y' else 0 for i in new_customer_list.deceased_indicator]"
   ]
  },
  {
   "cell_type": "code",
   "execution_count": 57,
   "id": "ba68b721",
   "metadata": {},
   "outputs": [],
   "source": [
    "new_customer_list.owns_car = [1 if i == True else 0 for i in new_customer_list.deceased_indicator]"
   ]
  },
  {
   "cell_type": "code",
   "execution_count": 58,
   "id": "a41eed96",
   "metadata": {},
   "outputs": [],
   "source": [
    "#will drop the country column as all of the rows are Australia\n",
    "new_customer_list.drop('country', axis = 1, inplace = True)                              "
   ]
  },
  {
   "cell_type": "code",
   "execution_count": 59,
   "id": "71729b09",
   "metadata": {},
   "outputs": [
    {
     "data": {
      "text/plain": [
       "array(['QLD', 'NSW', 'VIC'], dtype=object)"
      ]
     },
     "execution_count": 59,
     "metadata": {},
     "output_type": "execute_result"
    }
   ],
   "source": [
    "new_customer_list.state.unique()"
   ]
  },
  {
   "cell_type": "code",
   "execution_count": 60,
   "id": "5b7f0a0f",
   "metadata": {},
   "outputs": [],
   "source": [
    "new_customer_list.state = ['Queensland' if i == 'QLD' else 'New South Wales' if i == 'NSW' else 'Victoria' for i in new_customer_list.state] \n",
    "#changed the state column to be the state name instead of the state code"
   ]
  },
  {
   "cell_type": "code",
   "execution_count": 61,
   "id": "895129f7",
   "metadata": {},
   "outputs": [],
   "source": [
    "new_customer_list['age_group'] = ['30 or less' if i <= 30 else '50 or less' if i <= 50 \n",
    "                                      else 'more than 50' for i in new_customer_list.age]                              "
   ]
  },
  {
   "cell_type": "code",
   "execution_count": 62,
   "id": "e8f10890",
   "metadata": {},
   "outputs": [],
   "source": [
    "new_customer_list.drop('owns_car', inplace = True, axis = 1)\n",
    "#dropped this column as it only contains 0 values(no one owns cars)  "
   ]
  },
  {
   "cell_type": "code",
   "execution_count": 63,
   "id": "5b5b973a",
   "metadata": {},
   "outputs": [],
   "source": [
    "new_customer_list.drop('deceased_indicator', axis = 1, inplace = True)"
   ]
  },
  {
   "cell_type": "code",
   "execution_count": 64,
   "id": "f892a1c9",
   "metadata": {},
   "outputs": [
    {
     "data": {
      "text/html": [
       "<div>\n",
       "<style scoped>\n",
       "    .dataframe tbody tr th:only-of-type {\n",
       "        vertical-align: middle;\n",
       "    }\n",
       "\n",
       "    .dataframe tbody tr th {\n",
       "        vertical-align: top;\n",
       "    }\n",
       "\n",
       "    .dataframe thead th {\n",
       "        text-align: right;\n",
       "    }\n",
       "</style>\n",
       "<table border=\"1\" class=\"dataframe\">\n",
       "  <thead>\n",
       "    <tr style=\"text-align: right;\">\n",
       "      <th></th>\n",
       "      <th></th>\n",
       "      <th>count</th>\n",
       "      <th>mean</th>\n",
       "      <th>std</th>\n",
       "      <th>min</th>\n",
       "      <th>25%</th>\n",
       "      <th>50%</th>\n",
       "      <th>75%</th>\n",
       "      <th>max</th>\n",
       "    </tr>\n",
       "    <tr>\n",
       "      <th>state</th>\n",
       "      <th>wealth_segment</th>\n",
       "      <th></th>\n",
       "      <th></th>\n",
       "      <th></th>\n",
       "      <th></th>\n",
       "      <th></th>\n",
       "      <th></th>\n",
       "      <th></th>\n",
       "      <th></th>\n",
       "    </tr>\n",
       "  </thead>\n",
       "  <tbody>\n",
       "    <tr>\n",
       "      <th rowspan=\"3\" valign=\"top\">New South Wales</th>\n",
       "      <th>Affluent Customer</th>\n",
       "      <td>79.0</td>\n",
       "      <td>53.455696</td>\n",
       "      <td>28.319966</td>\n",
       "      <td>0.0</td>\n",
       "      <td>31.00</td>\n",
       "      <td>60.0</td>\n",
       "      <td>75.00</td>\n",
       "      <td>99.0</td>\n",
       "    </tr>\n",
       "    <tr>\n",
       "      <th>High Net Worth</th>\n",
       "      <td>92.0</td>\n",
       "      <td>50.271739</td>\n",
       "      <td>25.527879</td>\n",
       "      <td>1.0</td>\n",
       "      <td>32.25</td>\n",
       "      <td>53.0</td>\n",
       "      <td>69.25</td>\n",
       "      <td>99.0</td>\n",
       "    </tr>\n",
       "    <tr>\n",
       "      <th>Mass Customer</th>\n",
       "      <td>181.0</td>\n",
       "      <td>49.618785</td>\n",
       "      <td>28.459396</td>\n",
       "      <td>0.0</td>\n",
       "      <td>25.00</td>\n",
       "      <td>51.0</td>\n",
       "      <td>70.00</td>\n",
       "      <td>99.0</td>\n",
       "    </tr>\n",
       "    <tr>\n",
       "      <th rowspan=\"3\" valign=\"top\">Queensland</th>\n",
       "      <th>Affluent Customer</th>\n",
       "      <td>43.0</td>\n",
       "      <td>54.534884</td>\n",
       "      <td>25.284429</td>\n",
       "      <td>6.0</td>\n",
       "      <td>40.50</td>\n",
       "      <td>51.0</td>\n",
       "      <td>74.00</td>\n",
       "      <td>97.0</td>\n",
       "    </tr>\n",
       "    <tr>\n",
       "      <th>High Net Worth</th>\n",
       "      <td>33.0</td>\n",
       "      <td>52.909091</td>\n",
       "      <td>27.703073</td>\n",
       "      <td>3.0</td>\n",
       "      <td>32.00</td>\n",
       "      <td>57.0</td>\n",
       "      <td>73.00</td>\n",
       "      <td>99.0</td>\n",
       "    </tr>\n",
       "    <tr>\n",
       "      <th>Mass Customer</th>\n",
       "      <td>90.0</td>\n",
       "      <td>49.055556</td>\n",
       "      <td>28.302682</td>\n",
       "      <td>0.0</td>\n",
       "      <td>28.25</td>\n",
       "      <td>48.0</td>\n",
       "      <td>73.50</td>\n",
       "      <td>99.0</td>\n",
       "    </tr>\n",
       "    <tr>\n",
       "      <th rowspan=\"3\" valign=\"top\">Victoria</th>\n",
       "      <th>Affluent Customer</th>\n",
       "      <td>51.0</td>\n",
       "      <td>45.411765</td>\n",
       "      <td>26.998649</td>\n",
       "      <td>1.0</td>\n",
       "      <td>24.50</td>\n",
       "      <td>40.0</td>\n",
       "      <td>64.50</td>\n",
       "      <td>99.0</td>\n",
       "    </tr>\n",
       "    <tr>\n",
       "      <th>High Net Worth</th>\n",
       "      <td>55.0</td>\n",
       "      <td>46.690909</td>\n",
       "      <td>26.269876</td>\n",
       "      <td>0.0</td>\n",
       "      <td>22.50</td>\n",
       "      <td>50.0</td>\n",
       "      <td>64.50</td>\n",
       "      <td>99.0</td>\n",
       "    </tr>\n",
       "    <tr>\n",
       "      <th>Mass Customer</th>\n",
       "      <td>91.0</td>\n",
       "      <td>48.274725</td>\n",
       "      <td>30.006690</td>\n",
       "      <td>0.0</td>\n",
       "      <td>23.50</td>\n",
       "      <td>48.0</td>\n",
       "      <td>77.50</td>\n",
       "      <td>98.0</td>\n",
       "    </tr>\n",
       "  </tbody>\n",
       "</table>\n",
       "</div>"
      ],
      "text/plain": [
       "                                   count       mean        std  min    25%  \\\n",
       "state           wealth_segment                                               \n",
       "New South Wales Affluent Customer   79.0  53.455696  28.319966  0.0  31.00   \n",
       "                High Net Worth      92.0  50.271739  25.527879  1.0  32.25   \n",
       "                Mass Customer      181.0  49.618785  28.459396  0.0  25.00   \n",
       "Queensland      Affluent Customer   43.0  54.534884  25.284429  6.0  40.50   \n",
       "                High Net Worth      33.0  52.909091  27.703073  3.0  32.00   \n",
       "                Mass Customer       90.0  49.055556  28.302682  0.0  28.25   \n",
       "Victoria        Affluent Customer   51.0  45.411765  26.998649  1.0  24.50   \n",
       "                High Net Worth      55.0  46.690909  26.269876  0.0  22.50   \n",
       "                Mass Customer       91.0  48.274725  30.006690  0.0  23.50   \n",
       "\n",
       "                                    50%    75%   max  \n",
       "state           wealth_segment                        \n",
       "New South Wales Affluent Customer  60.0  75.00  99.0  \n",
       "                High Net Worth     53.0  69.25  99.0  \n",
       "                Mass Customer      51.0  70.00  99.0  \n",
       "Queensland      Affluent Customer  51.0  74.00  97.0  \n",
       "                High Net Worth     57.0  73.00  99.0  \n",
       "                Mass Customer      48.0  73.50  99.0  \n",
       "Victoria        Affluent Customer  40.0  64.50  99.0  \n",
       "                High Net Worth     50.0  64.50  99.0  \n",
       "                Mass Customer      48.0  77.50  98.0  "
      ]
     },
     "execution_count": 64,
     "metadata": {},
     "output_type": "execute_result"
    }
   ],
   "source": [
    "#does the state make a difference on the purchases count\n",
    "new_customer_list.groupby(['state', 'wealth_segment']).past_3_years_bike_related_purchases.describe()\n",
    "\n",
    "#we can say from this that in general customers coming from New South Wales have higher medians but not that much of a\n",
    "#difference that we can use to base our decision on"
   ]
  },
  {
   "cell_type": "code",
   "execution_count": 65,
   "id": "b9598641",
   "metadata": {},
   "outputs": [
    {
     "data": {
      "text/plain": [
       "<matplotlib.collections.PathCollection at 0x19594351f08>"
      ]
     },
     "execution_count": 65,
     "metadata": {},
     "output_type": "execute_result"
    },
    {
     "data": {
      "image/png": "[encoded data removed]",
      "text/plain": [
       "<Figure size 432x288 with 1 Axes>"
      ]
     },
     "metadata": {
      "needs_background": "light"
     },
     "output_type": "display_data"
    }
   ],
   "source": [
    "plt.scatter(x = 'past_3_years_bike_related_purchases', y = 'Value', data = new_customer_list)"
   ]
  },
  {
   "cell_type": "code",
   "execution_count": 66,
   "id": "7fc79981",
   "metadata": {},
   "outputs": [
    {
     "data": {
      "text/plain": [
       "<matplotlib.collections.PathCollection at 0x19593cb4308>"
      ]
     },
     "execution_count": 66,
     "metadata": {},
     "output_type": "execute_result"
    },
    {
     "data": {
      "image/png": "[encoded data removed]",
      "text/plain": [
       "<Figure size 432x288 with 1 Axes>"
      ]
     },
     "metadata": {
      "needs_background": "light"
     },
     "output_type": "display_data"
    }
   ],
   "source": [
    "plt.scatter(x = 'past_3_years_bike_related_purchases', y = 'Rank', data = new_customer_list)"
   ]
  },
  {
   "cell_type": "code",
   "execution_count": 67,
   "id": "d7be3277",
   "metadata": {},
   "outputs": [
    {
     "data": {
      "text/plain": [
       "<matplotlib.collections.PathCollection at 0x19593d1b948>"
      ]
     },
     "execution_count": 67,
     "metadata": {},
     "output_type": "execute_result"
    },
    {
     "data": {
      "image/png": "[encoded data removed]",
      "text/plain": [
       "<Figure size 432x288 with 1 Axes>"
      ]
     },
     "metadata": {
      "needs_background": "light"
     },
     "output_type": "display_data"
    }
   ],
   "source": [
    "plt.scatter(x = 'past_3_years_bike_related_purchases', y = 'age', data = new_customer_list)"
   ]
  },
  {
   "cell_type": "code",
   "execution_count": 68,
   "id": "43a3534a",
   "metadata": {},
   "outputs": [
    {
     "data": {
      "text/plain": [
       "<matplotlib.collections.PathCollection at 0x195935e2188>"
      ]
     },
     "execution_count": 68,
     "metadata": {},
     "output_type": "execute_result"
    },
    {
     "data": {
      "image/png": "[encoded data removed]",
      "text/plain": [
       "<Figure size 432x288 with 1 Axes>"
      ]
     },
     "metadata": {
      "needs_background": "light"
     },
     "output_type": "display_data"
    }
   ],
   "source": [
    "plt.scatter(x = 'past_3_years_bike_related_purchases', y = 'tenure', data = new_customer_list)"
   ]
  },
  {
   "cell_type": "code",
   "execution_count": 69,
   "id": "1c4f36ce",
   "metadata": {},
   "outputs": [
    {
     "data": {
      "text/plain": [
       "<matplotlib.collections.PathCollection at 0x195943115c8>"
      ]
     },
     "execution_count": 69,
     "metadata": {},
     "output_type": "execute_result"
    },
    {
     "data": {
      "image/png": "[encoded data removed]",
      "text/plain": [
       "<Figure size 432x288 with 1 Axes>"
      ]
     },
     "metadata": {
      "needs_background": "light"
     },
     "output_type": "display_data"
    }
   ],
   "source": [
    "plt.scatter(x = 'past_3_years_bike_related_purchases', y = 'property_valuation', data = new_customer_list)"
   ]
  },
  {
   "cell_type": "markdown",
   "id": "f22c84d3",
   "metadata": {},
   "source": [
    "#### From the past 5 plots we can coclude that there is no correlation between 'value', 'rank', 'property valuation', 'age', 'tenure' and 'past 3 years bike related purchases'"
   ]
  },
  {
   "cell_type": "code",
   "execution_count": 70,
   "id": "09be549c",
   "metadata": {},
   "outputs": [
    {
     "data": {
      "text/html": [
       "<div>\n",
       "<style scoped>\n",
       "    .dataframe tbody tr th:only-of-type {\n",
       "        vertical-align: middle;\n",
       "    }\n",
       "\n",
       "    .dataframe tbody tr th {\n",
       "        vertical-align: top;\n",
       "    }\n",
       "\n",
       "    .dataframe thead th {\n",
       "        text-align: right;\n",
       "    }\n",
       "</style>\n",
       "<table border=\"1\" class=\"dataframe\">\n",
       "  <thead>\n",
       "    <tr style=\"text-align: right;\">\n",
       "      <th></th>\n",
       "      <th>first_name</th>\n",
       "      <th>last_name</th>\n",
       "      <th>gender</th>\n",
       "      <th>past_3_years_bike_related_purchases</th>\n",
       "      <th>DOB</th>\n",
       "      <th>job_title</th>\n",
       "      <th>job_industry_category</th>\n",
       "      <th>wealth_segment</th>\n",
       "      <th>tenure</th>\n",
       "      <th>address</th>\n",
       "      <th>postcode</th>\n",
       "      <th>state</th>\n",
       "      <th>property_valuation</th>\n",
       "      <th>Rank</th>\n",
       "      <th>Value</th>\n",
       "      <th>age</th>\n",
       "      <th>age_group</th>\n",
       "    </tr>\n",
       "  </thead>\n",
       "  <tbody>\n",
       "    <tr>\n",
       "      <th>0</th>\n",
       "      <td>Chickie</td>\n",
       "      <td>Brister</td>\n",
       "      <td>M</td>\n",
       "      <td>86</td>\n",
       "      <td>1957-07-12</td>\n",
       "      <td>General Manager</td>\n",
       "      <td>Manufacturing</td>\n",
       "      <td>Mass Customer</td>\n",
       "      <td>14</td>\n",
       "      <td>45 Shopko Center</td>\n",
       "      <td>4500</td>\n",
       "      <td>Queensland</td>\n",
       "      <td>6</td>\n",
       "      <td>1</td>\n",
       "      <td>1.718750</td>\n",
       "      <td>64</td>\n",
       "      <td>more than 50</td>\n",
       "    </tr>\n",
       "    <tr>\n",
       "      <th>1</th>\n",
       "      <td>Morly</td>\n",
       "      <td>Genery</td>\n",
       "      <td>M</td>\n",
       "      <td>69</td>\n",
       "      <td>1970-03-22</td>\n",
       "      <td>Structural Engineer</td>\n",
       "      <td>Property</td>\n",
       "      <td>Mass Customer</td>\n",
       "      <td>16</td>\n",
       "      <td>14 Mccormick Park</td>\n",
       "      <td>2113</td>\n",
       "      <td>New South Wales</td>\n",
       "      <td>11</td>\n",
       "      <td>1</td>\n",
       "      <td>1.718750</td>\n",
       "      <td>51</td>\n",
       "      <td>more than 50</td>\n",
       "    </tr>\n",
       "    <tr>\n",
       "      <th>2</th>\n",
       "      <td>Ardelis</td>\n",
       "      <td>Forrester</td>\n",
       "      <td>F</td>\n",
       "      <td>10</td>\n",
       "      <td>1974-08-28</td>\n",
       "      <td>Senior Cost Accountant</td>\n",
       "      <td>Financial Services</td>\n",
       "      <td>Affluent Customer</td>\n",
       "      <td>10</td>\n",
       "      <td>5 Colorado Crossing</td>\n",
       "      <td>3505</td>\n",
       "      <td>Victoria</td>\n",
       "      <td>5</td>\n",
       "      <td>1</td>\n",
       "      <td>1.718750</td>\n",
       "      <td>47</td>\n",
       "      <td>50 or less</td>\n",
       "    </tr>\n",
       "    <tr>\n",
       "      <th>3</th>\n",
       "      <td>Lucine</td>\n",
       "      <td>Stutt</td>\n",
       "      <td>F</td>\n",
       "      <td>64</td>\n",
       "      <td>1979-01-28</td>\n",
       "      <td>Account Representative III</td>\n",
       "      <td>Manufacturing</td>\n",
       "      <td>Affluent Customer</td>\n",
       "      <td>5</td>\n",
       "      <td>207 Annamark Plaza</td>\n",
       "      <td>4814</td>\n",
       "      <td>Queensland</td>\n",
       "      <td>1</td>\n",
       "      <td>4</td>\n",
       "      <td>1.703125</td>\n",
       "      <td>42</td>\n",
       "      <td>50 or less</td>\n",
       "    </tr>\n",
       "    <tr>\n",
       "      <th>4</th>\n",
       "      <td>Melinda</td>\n",
       "      <td>Hadlee</td>\n",
       "      <td>F</td>\n",
       "      <td>34</td>\n",
       "      <td>1965-09-21</td>\n",
       "      <td>Financial Analyst</td>\n",
       "      <td>Financial Services</td>\n",
       "      <td>Affluent Customer</td>\n",
       "      <td>19</td>\n",
       "      <td>115 Montana Place</td>\n",
       "      <td>2093</td>\n",
       "      <td>New South Wales</td>\n",
       "      <td>9</td>\n",
       "      <td>4</td>\n",
       "      <td>1.703125</td>\n",
       "      <td>56</td>\n",
       "      <td>more than 50</td>\n",
       "    </tr>\n",
       "  </tbody>\n",
       "</table>\n",
       "</div>"
      ],
      "text/plain": [
       "  first_name  last_name gender  past_3_years_bike_related_purchases  \\\n",
       "0    Chickie    Brister      M                                   86   \n",
       "1      Morly     Genery      M                                   69   \n",
       "2    Ardelis  Forrester      F                                   10   \n",
       "3     Lucine      Stutt      F                                   64   \n",
       "4    Melinda     Hadlee      F                                   34   \n",
       "\n",
       "         DOB                   job_title job_industry_category  \\\n",
       "0 1957-07-12             General Manager         Manufacturing   \n",
       "1 1970-03-22         Structural Engineer              Property   \n",
       "2 1974-08-28      Senior Cost Accountant    Financial Services   \n",
       "3 1979-01-28  Account Representative III         Manufacturing   \n",
       "4 1965-09-21           Financial Analyst    Financial Services   \n",
       "\n",
       "      wealth_segment  tenure              address  postcode            state  \\\n",
       "0      Mass Customer      14     45 Shopko Center      4500       Queensland   \n",
       "1      Mass Customer      16    14 Mccormick Park      2113  New South Wales   \n",
       "2  Affluent Customer      10  5 Colorado Crossing      3505         Victoria   \n",
       "3  Affluent Customer       5   207 Annamark Plaza      4814       Queensland   \n",
       "4  Affluent Customer      19    115 Montana Place      2093  New South Wales   \n",
       "\n",
       "   property_valuation  Rank     Value  age     age_group  \n",
       "0                   6     1  1.718750   64  more than 50  \n",
       "1                  11     1  1.718750   51  more than 50  \n",
       "2                   5     1  1.718750   47    50 or less  \n",
       "3                   1     4  1.703125   42    50 or less  \n",
       "4                   9     4  1.703125   56  more than 50  "
      ]
     },
     "execution_count": 70,
     "metadata": {},
     "output_type": "execute_result"
    }
   ],
   "source": [
    "new_customer_list.head()"
   ]
  },
  {
   "cell_type": "code",
   "execution_count": 91,
   "id": "5d75d4ed",
   "metadata": {},
   "outputs": [
    {
     "data": {
      "image/png": "[encoded data removed]",
      "text/plain": [
       "<Figure size 432x288 with 1 Axes>"
      ]
     },
     "metadata": {
      "needs_background": "light"
     },
     "output_type": "display_data"
    }
   ],
   "source": [
    "plt.scatter(x = 'job_industry_category', y = 'past_3_years_bike_related_purchases', data = new_customer_list);\n",
    "plt.xticks(rotation = 70);\n",
    "plt.ylabel('past three years purchases');\n",
    "plt.title('Job Category to purchases over the past 3 years');"
   ]
  },
  {
   "cell_type": "code",
   "execution_count": 93,
   "id": "2758f9c2",
   "metadata": {},
   "outputs": [
    {
     "data": {
      "text/html": [
       "<div>\n",
       "<style scoped>\n",
       "    .dataframe tbody tr th:only-of-type {\n",
       "        vertical-align: middle;\n",
       "    }\n",
       "\n",
       "    .dataframe tbody tr th {\n",
       "        vertical-align: top;\n",
       "    }\n",
       "\n",
       "    .dataframe thead th {\n",
       "        text-align: right;\n",
       "    }\n",
       "</style>\n",
       "<table border=\"1\" class=\"dataframe\">\n",
       "  <thead>\n",
       "    <tr style=\"text-align: right;\">\n",
       "      <th></th>\n",
       "      <th>count</th>\n",
       "      <th>mean</th>\n",
       "      <th>std</th>\n",
       "      <th>min</th>\n",
       "      <th>25%</th>\n",
       "      <th>50%</th>\n",
       "      <th>75%</th>\n",
       "      <th>max</th>\n",
       "    </tr>\n",
       "    <tr>\n",
       "      <th>job_industry_category</th>\n",
       "      <th></th>\n",
       "      <th></th>\n",
       "      <th></th>\n",
       "      <th></th>\n",
       "      <th></th>\n",
       "      <th></th>\n",
       "      <th></th>\n",
       "      <th></th>\n",
       "    </tr>\n",
       "  </thead>\n",
       "  <tbody>\n",
       "    <tr>\n",
       "      <th>Argiculture</th>\n",
       "      <td>23.0</td>\n",
       "      <td>49.217391</td>\n",
       "      <td>28.051830</td>\n",
       "      <td>6.0</td>\n",
       "      <td>25.00</td>\n",
       "      <td>44.0</td>\n",
       "      <td>75.00</td>\n",
       "      <td>97.0</td>\n",
       "    </tr>\n",
       "    <tr>\n",
       "      <th>Entertainment</th>\n",
       "      <td>32.0</td>\n",
       "      <td>52.187500</td>\n",
       "      <td>27.735429</td>\n",
       "      <td>3.0</td>\n",
       "      <td>28.75</td>\n",
       "      <td>57.5</td>\n",
       "      <td>79.00</td>\n",
       "      <td>95.0</td>\n",
       "    </tr>\n",
       "    <tr>\n",
       "      <th>Financial Services</th>\n",
       "      <td>182.0</td>\n",
       "      <td>52.615385</td>\n",
       "      <td>28.830144</td>\n",
       "      <td>0.0</td>\n",
       "      <td>29.25</td>\n",
       "      <td>54.5</td>\n",
       "      <td>77.75</td>\n",
       "      <td>99.0</td>\n",
       "    </tr>\n",
       "    <tr>\n",
       "      <th>Health</th>\n",
       "      <td>135.0</td>\n",
       "      <td>47.555556</td>\n",
       "      <td>26.829942</td>\n",
       "      <td>0.0</td>\n",
       "      <td>24.00</td>\n",
       "      <td>47.0</td>\n",
       "      <td>67.00</td>\n",
       "      <td>99.0</td>\n",
       "    </tr>\n",
       "    <tr>\n",
       "      <th>IT</th>\n",
       "      <td>29.0</td>\n",
       "      <td>54.206897</td>\n",
       "      <td>23.885709</td>\n",
       "      <td>0.0</td>\n",
       "      <td>42.00</td>\n",
       "      <td>54.0</td>\n",
       "      <td>67.00</td>\n",
       "      <td>99.0</td>\n",
       "    </tr>\n",
       "    <tr>\n",
       "      <th>Manufacturing</th>\n",
       "      <td>171.0</td>\n",
       "      <td>47.350877</td>\n",
       "      <td>28.001780</td>\n",
       "      <td>0.0</td>\n",
       "      <td>24.00</td>\n",
       "      <td>48.0</td>\n",
       "      <td>68.50</td>\n",
       "      <td>99.0</td>\n",
       "    </tr>\n",
       "    <tr>\n",
       "      <th>Property</th>\n",
       "      <td>49.0</td>\n",
       "      <td>45.081633</td>\n",
       "      <td>25.594463</td>\n",
       "      <td>0.0</td>\n",
       "      <td>29.00</td>\n",
       "      <td>51.0</td>\n",
       "      <td>68.00</td>\n",
       "      <td>91.0</td>\n",
       "    </tr>\n",
       "    <tr>\n",
       "      <th>Retail</th>\n",
       "      <td>73.0</td>\n",
       "      <td>53.753425</td>\n",
       "      <td>28.817327</td>\n",
       "      <td>0.0</td>\n",
       "      <td>33.00</td>\n",
       "      <td>56.0</td>\n",
       "      <td>78.00</td>\n",
       "      <td>99.0</td>\n",
       "    </tr>\n",
       "    <tr>\n",
       "      <th>Telecommunications</th>\n",
       "      <td>21.0</td>\n",
       "      <td>48.190476</td>\n",
       "      <td>26.910256</td>\n",
       "      <td>7.0</td>\n",
       "      <td>30.00</td>\n",
       "      <td>47.0</td>\n",
       "      <td>70.00</td>\n",
       "      <td>97.0</td>\n",
       "    </tr>\n",
       "  </tbody>\n",
       "</table>\n",
       "</div>"
      ],
      "text/plain": [
       "                       count       mean        std  min    25%   50%    75%  \\\n",
       "job_industry_category                                                         \n",
       "Argiculture             23.0  49.217391  28.051830  6.0  25.00  44.0  75.00   \n",
       "Entertainment           32.0  52.187500  27.735429  3.0  28.75  57.5  79.00   \n",
       "Financial Services     182.0  52.615385  28.830144  0.0  29.25  54.5  77.75   \n",
       "Health                 135.0  47.555556  26.829942  0.0  24.00  47.0  67.00   \n",
       "IT                      29.0  54.206897  23.885709  0.0  42.00  54.0  67.00   \n",
       "Manufacturing          171.0  47.350877  28.001780  0.0  24.00  48.0  68.50   \n",
       "Property                49.0  45.081633  25.594463  0.0  29.00  51.0  68.00   \n",
       "Retail                  73.0  53.753425  28.817327  0.0  33.00  56.0  78.00   \n",
       "Telecommunications      21.0  48.190476  26.910256  7.0  30.00  47.0  70.00   \n",
       "\n",
       "                        max  \n",
       "job_industry_category        \n",
       "Argiculture            97.0  \n",
       "Entertainment          95.0  \n",
       "Financial Services     99.0  \n",
       "Health                 99.0  \n",
       "IT                     99.0  \n",
       "Manufacturing          99.0  \n",
       "Property               91.0  \n",
       "Retail                 99.0  \n",
       "Telecommunications     97.0  "
      ]
     },
     "execution_count": 93,
     "metadata": {},
     "output_type": "execute_result"
    }
   ],
   "source": [
    "new_customer_list.groupby(['job_industry_category']).past_3_years_bike_related_purchases.describe()\n",
    "#the heighest mdian and the third heighest mean is in the Entertainment industry"
   ]
  },
  {
   "cell_type": "code",
   "execution_count": 94,
   "id": "10205b8a",
   "metadata": {},
   "outputs": [
    {
     "data": {
      "text/html": [
       "<div>\n",
       "<style scoped>\n",
       "    .dataframe tbody tr th:only-of-type {\n",
       "        vertical-align: middle;\n",
       "    }\n",
       "\n",
       "    .dataframe tbody tr th {\n",
       "        vertical-align: top;\n",
       "    }\n",
       "\n",
       "    .dataframe thead th {\n",
       "        text-align: right;\n",
       "    }\n",
       "</style>\n",
       "<table border=\"1\" class=\"dataframe\">\n",
       "  <thead>\n",
       "    <tr style=\"text-align: right;\">\n",
       "      <th></th>\n",
       "      <th></th>\n",
       "      <th>count</th>\n",
       "      <th>mean</th>\n",
       "      <th>std</th>\n",
       "      <th>min</th>\n",
       "      <th>25%</th>\n",
       "      <th>50%</th>\n",
       "      <th>75%</th>\n",
       "      <th>max</th>\n",
       "    </tr>\n",
       "    <tr>\n",
       "      <th>gender</th>\n",
       "      <th>job_industry_category</th>\n",
       "      <th></th>\n",
       "      <th></th>\n",
       "      <th></th>\n",
       "      <th></th>\n",
       "      <th></th>\n",
       "      <th></th>\n",
       "      <th></th>\n",
       "      <th></th>\n",
       "    </tr>\n",
       "  </thead>\n",
       "  <tbody>\n",
       "    <tr>\n",
       "      <th rowspan=\"9\" valign=\"top\">F</th>\n",
       "      <th>Argiculture</th>\n",
       "      <td>8.0</td>\n",
       "      <td>47.500000</td>\n",
       "      <td>24.622870</td>\n",
       "      <td>21.0</td>\n",
       "      <td>25.50</td>\n",
       "      <td>42.5</td>\n",
       "      <td>74.25</td>\n",
       "      <td>77.0</td>\n",
       "    </tr>\n",
       "    <tr>\n",
       "      <th>Entertainment</th>\n",
       "      <td>18.0</td>\n",
       "      <td>54.500000</td>\n",
       "      <td>27.489570</td>\n",
       "      <td>8.0</td>\n",
       "      <td>33.25</td>\n",
       "      <td>58.5</td>\n",
       "      <td>79.00</td>\n",
       "      <td>95.0</td>\n",
       "    </tr>\n",
       "    <tr>\n",
       "      <th>Financial Services</th>\n",
       "      <td>92.0</td>\n",
       "      <td>51.945652</td>\n",
       "      <td>28.656113</td>\n",
       "      <td>0.0</td>\n",
       "      <td>28.50</td>\n",
       "      <td>54.0</td>\n",
       "      <td>77.25</td>\n",
       "      <td>99.0</td>\n",
       "    </tr>\n",
       "    <tr>\n",
       "      <th>Health</th>\n",
       "      <td>74.0</td>\n",
       "      <td>48.148649</td>\n",
       "      <td>27.301303</td>\n",
       "      <td>0.0</td>\n",
       "      <td>26.00</td>\n",
       "      <td>45.0</td>\n",
       "      <td>67.75</td>\n",
       "      <td>99.0</td>\n",
       "    </tr>\n",
       "    <tr>\n",
       "      <th>IT</th>\n",
       "      <td>15.0</td>\n",
       "      <td>46.866667</td>\n",
       "      <td>20.815059</td>\n",
       "      <td>0.0</td>\n",
       "      <td>39.00</td>\n",
       "      <td>50.0</td>\n",
       "      <td>57.00</td>\n",
       "      <td>91.0</td>\n",
       "    </tr>\n",
       "    <tr>\n",
       "      <th>Manufacturing</th>\n",
       "      <td>85.0</td>\n",
       "      <td>45.117647</td>\n",
       "      <td>29.164726</td>\n",
       "      <td>0.0</td>\n",
       "      <td>18.00</td>\n",
       "      <td>44.0</td>\n",
       "      <td>66.00</td>\n",
       "      <td>99.0</td>\n",
       "    </tr>\n",
       "    <tr>\n",
       "      <th>Property</th>\n",
       "      <td>25.0</td>\n",
       "      <td>45.360000</td>\n",
       "      <td>25.772854</td>\n",
       "      <td>0.0</td>\n",
       "      <td>30.00</td>\n",
       "      <td>49.0</td>\n",
       "      <td>69.00</td>\n",
       "      <td>81.0</td>\n",
       "    </tr>\n",
       "    <tr>\n",
       "      <th>Retail</th>\n",
       "      <td>40.0</td>\n",
       "      <td>47.775000</td>\n",
       "      <td>28.899017</td>\n",
       "      <td>0.0</td>\n",
       "      <td>20.50</td>\n",
       "      <td>48.0</td>\n",
       "      <td>67.00</td>\n",
       "      <td>99.0</td>\n",
       "    </tr>\n",
       "    <tr>\n",
       "      <th>Telecommunications</th>\n",
       "      <td>12.0</td>\n",
       "      <td>49.166667</td>\n",
       "      <td>26.135428</td>\n",
       "      <td>16.0</td>\n",
       "      <td>29.00</td>\n",
       "      <td>44.0</td>\n",
       "      <td>70.25</td>\n",
       "      <td>97.0</td>\n",
       "    </tr>\n",
       "    <tr>\n",
       "      <th rowspan=\"9\" valign=\"top\">M</th>\n",
       "      <th>Argiculture</th>\n",
       "      <td>15.0</td>\n",
       "      <td>50.133333</td>\n",
       "      <td>30.509639</td>\n",
       "      <td>6.0</td>\n",
       "      <td>27.00</td>\n",
       "      <td>44.0</td>\n",
       "      <td>76.00</td>\n",
       "      <td>97.0</td>\n",
       "    </tr>\n",
       "    <tr>\n",
       "      <th>Entertainment</th>\n",
       "      <td>14.0</td>\n",
       "      <td>49.214286</td>\n",
       "      <td>28.796844</td>\n",
       "      <td>3.0</td>\n",
       "      <td>28.25</td>\n",
       "      <td>57.0</td>\n",
       "      <td>72.25</td>\n",
       "      <td>87.0</td>\n",
       "    </tr>\n",
       "    <tr>\n",
       "      <th>Financial Services</th>\n",
       "      <td>90.0</td>\n",
       "      <td>53.300000</td>\n",
       "      <td>29.151464</td>\n",
       "      <td>1.0</td>\n",
       "      <td>30.50</td>\n",
       "      <td>54.5</td>\n",
       "      <td>77.50</td>\n",
       "      <td>99.0</td>\n",
       "    </tr>\n",
       "    <tr>\n",
       "      <th>Health</th>\n",
       "      <td>61.0</td>\n",
       "      <td>46.836066</td>\n",
       "      <td>26.454477</td>\n",
       "      <td>0.0</td>\n",
       "      <td>23.00</td>\n",
       "      <td>52.0</td>\n",
       "      <td>66.00</td>\n",
       "      <td>98.0</td>\n",
       "    </tr>\n",
       "    <tr>\n",
       "      <th>IT</th>\n",
       "      <td>14.0</td>\n",
       "      <td>62.071429</td>\n",
       "      <td>25.168553</td>\n",
       "      <td>1.0</td>\n",
       "      <td>50.00</td>\n",
       "      <td>62.0</td>\n",
       "      <td>81.50</td>\n",
       "      <td>99.0</td>\n",
       "    </tr>\n",
       "    <tr>\n",
       "      <th>Manufacturing</th>\n",
       "      <td>86.0</td>\n",
       "      <td>49.558140</td>\n",
       "      <td>26.790079</td>\n",
       "      <td>0.0</td>\n",
       "      <td>31.25</td>\n",
       "      <td>50.0</td>\n",
       "      <td>69.75</td>\n",
       "      <td>98.0</td>\n",
       "    </tr>\n",
       "    <tr>\n",
       "      <th>Property</th>\n",
       "      <td>24.0</td>\n",
       "      <td>44.791667</td>\n",
       "      <td>25.958125</td>\n",
       "      <td>3.0</td>\n",
       "      <td>25.50</td>\n",
       "      <td>51.0</td>\n",
       "      <td>62.00</td>\n",
       "      <td>91.0</td>\n",
       "    </tr>\n",
       "    <tr>\n",
       "      <th>Retail</th>\n",
       "      <td>33.0</td>\n",
       "      <td>61.000000</td>\n",
       "      <td>27.419199</td>\n",
       "      <td>12.0</td>\n",
       "      <td>37.00</td>\n",
       "      <td>61.0</td>\n",
       "      <td>90.00</td>\n",
       "      <td>99.0</td>\n",
       "    </tr>\n",
       "    <tr>\n",
       "      <th>Telecommunications</th>\n",
       "      <td>9.0</td>\n",
       "      <td>46.888889</td>\n",
       "      <td>29.459483</td>\n",
       "      <td>7.0</td>\n",
       "      <td>31.00</td>\n",
       "      <td>51.0</td>\n",
       "      <td>64.00</td>\n",
       "      <td>95.0</td>\n",
       "    </tr>\n",
       "  </tbody>\n",
       "</table>\n",
       "</div>"
      ],
      "text/plain": [
       "                              count       mean        std   min    25%   50%  \\\n",
       "gender job_industry_category                                                   \n",
       "F      Argiculture              8.0  47.500000  24.622870  21.0  25.50  42.5   \n",
       "       Entertainment           18.0  54.500000  27.489570   8.0  33.25  58.5   \n",
       "       Financial Services      92.0  51.945652  28.656113   0.0  28.50  54.0   \n",
       "       Health                  74.0  48.148649  27.301303   0.0  26.00  45.0   \n",
       "       IT                      15.0  46.866667  20.815059   0.0  39.00  50.0   \n",
       "       Manufacturing           85.0  45.117647  29.164726   0.0  18.00  44.0   \n",
       "       Property                25.0  45.360000  25.772854   0.0  30.00  49.0   \n",
       "       Retail                  40.0  47.775000  28.899017   0.0  20.50  48.0   \n",
       "       Telecommunications      12.0  49.166667  26.135428  16.0  29.00  44.0   \n",
       "M      Argiculture             15.0  50.133333  30.509639   6.0  27.00  44.0   \n",
       "       Entertainment           14.0  49.214286  28.796844   3.0  28.25  57.0   \n",
       "       Financial Services      90.0  53.300000  29.151464   1.0  30.50  54.5   \n",
       "       Health                  61.0  46.836066  26.454477   0.0  23.00  52.0   \n",
       "       IT                      14.0  62.071429  25.168553   1.0  50.00  62.0   \n",
       "       Manufacturing           86.0  49.558140  26.790079   0.0  31.25  50.0   \n",
       "       Property                24.0  44.791667  25.958125   3.0  25.50  51.0   \n",
       "       Retail                  33.0  61.000000  27.419199  12.0  37.00  61.0   \n",
       "       Telecommunications       9.0  46.888889  29.459483   7.0  31.00  51.0   \n",
       "\n",
       "                                75%   max  \n",
       "gender job_industry_category               \n",
       "F      Argiculture            74.25  77.0  \n",
       "       Entertainment          79.00  95.0  \n",
       "       Financial Services     77.25  99.0  \n",
       "       Health                 67.75  99.0  \n",
       "       IT                     57.00  91.0  \n",
       "       Manufacturing          66.00  99.0  \n",
       "       Property               69.00  81.0  \n",
       "       Retail                 67.00  99.0  \n",
       "       Telecommunications     70.25  97.0  \n",
       "M      Argiculture            76.00  97.0  \n",
       "       Entertainment          72.25  87.0  \n",
       "       Financial Services     77.50  99.0  \n",
       "       Health                 66.00  98.0  \n",
       "       IT                     81.50  99.0  \n",
       "       Manufacturing          69.75  98.0  \n",
       "       Property               62.00  91.0  \n",
       "       Retail                 90.00  99.0  \n",
       "       Telecommunications     64.00  95.0  "
      ]
     },
     "execution_count": 94,
     "metadata": {},
     "output_type": "execute_result"
    }
   ],
   "source": [
    "new_customer_list.groupby(['gender','job_industry_category']).past_3_years_bike_related_purchases.describe()\n",
    "#In males the heighest mdian and the heighest mean is in the IT industry\n",
    "#While in females the heighest mdian and the heighest mean is in the Entertainment industry \n",
    "#but still there is no clear correlation between the two variables"
   ]
  },
  {
   "cell_type": "code",
   "execution_count": 107,
   "id": "d1bd339b",
   "metadata": {},
   "outputs": [],
   "source": [
    "v = new_customer_list.groupby(['wealth_segment','job_industry_category']).past_3_years_bike_related_purchases.describe()"
   ]
  },
  {
   "cell_type": "code",
   "execution_count": 120,
   "id": "a130055a",
   "metadata": {},
   "outputs": [
    {
     "data": {
      "text/html": [
       "<div>\n",
       "<style scoped>\n",
       "    .dataframe tbody tr th:only-of-type {\n",
       "        vertical-align: middle;\n",
       "    }\n",
       "\n",
       "    .dataframe tbody tr th {\n",
       "        vertical-align: top;\n",
       "    }\n",
       "\n",
       "    .dataframe thead th {\n",
       "        text-align: right;\n",
       "    }\n",
       "</style>\n",
       "<table border=\"1\" class=\"dataframe\">\n",
       "  <thead>\n",
       "    <tr style=\"text-align: right;\">\n",
       "      <th></th>\n",
       "      <th></th>\n",
       "      <th>count</th>\n",
       "      <th>mean</th>\n",
       "      <th>std</th>\n",
       "      <th>min</th>\n",
       "      <th>25%</th>\n",
       "      <th>50%</th>\n",
       "      <th>75%</th>\n",
       "      <th>max</th>\n",
       "    </tr>\n",
       "    <tr>\n",
       "      <th>wealth_segment</th>\n",
       "      <th>job_industry_category</th>\n",
       "      <th></th>\n",
       "      <th></th>\n",
       "      <th></th>\n",
       "      <th></th>\n",
       "      <th></th>\n",
       "      <th></th>\n",
       "      <th></th>\n",
       "      <th></th>\n",
       "    </tr>\n",
       "  </thead>\n",
       "  <tbody>\n",
       "    <tr>\n",
       "      <th rowspan=\"9\" valign=\"top\">Affluent Customer</th>\n",
       "      <th>Argiculture</th>\n",
       "      <td>5.0</td>\n",
       "      <td>36.000000</td>\n",
       "      <td>23.505319</td>\n",
       "      <td>6.0</td>\n",
       "      <td>27.0</td>\n",
       "      <td>33.0</td>\n",
       "      <td>44.00</td>\n",
       "      <td>70.0</td>\n",
       "    </tr>\n",
       "    <tr>\n",
       "      <th>Entertainment</th>\n",
       "      <td>4.0</td>\n",
       "      <td>42.000000</td>\n",
       "      <td>25.337719</td>\n",
       "      <td>8.0</td>\n",
       "      <td>30.5</td>\n",
       "      <td>47.5</td>\n",
       "      <td>59.00</td>\n",
       "      <td>65.0</td>\n",
       "    </tr>\n",
       "    <tr>\n",
       "      <th>Financial Services</th>\n",
       "      <td>48.0</td>\n",
       "      <td>54.291667</td>\n",
       "      <td>27.979444</td>\n",
       "      <td>1.0</td>\n",
       "      <td>30.5</td>\n",
       "      <td>54.5</td>\n",
       "      <td>80.25</td>\n",
       "      <td>97.0</td>\n",
       "    </tr>\n",
       "    <tr>\n",
       "      <th>Health</th>\n",
       "      <td>34.0</td>\n",
       "      <td>49.205882</td>\n",
       "      <td>26.909252</td>\n",
       "      <td>7.0</td>\n",
       "      <td>24.0</td>\n",
       "      <td>53.5</td>\n",
       "      <td>67.00</td>\n",
       "      <td>93.0</td>\n",
       "    </tr>\n",
       "    <tr>\n",
       "      <th>IT</th>\n",
       "      <td>7.0</td>\n",
       "      <td>58.857143</td>\n",
       "      <td>26.748387</td>\n",
       "      <td>27.0</td>\n",
       "      <td>41.0</td>\n",
       "      <td>46.0</td>\n",
       "      <td>79.00</td>\n",
       "      <td>99.0</td>\n",
       "    </tr>\n",
       "    <tr>\n",
       "      <th>Manufacturing</th>\n",
       "      <td>41.0</td>\n",
       "      <td>52.487805</td>\n",
       "      <td>28.455335</td>\n",
       "      <td>0.0</td>\n",
       "      <td>32.0</td>\n",
       "      <td>56.0</td>\n",
       "      <td>77.00</td>\n",
       "      <td>98.0</td>\n",
       "    </tr>\n",
       "    <tr>\n",
       "      <th>Property</th>\n",
       "      <td>12.0</td>\n",
       "      <td>44.083333</td>\n",
       "      <td>25.723913</td>\n",
       "      <td>6.0</td>\n",
       "      <td>29.5</td>\n",
       "      <td>37.5</td>\n",
       "      <td>69.25</td>\n",
       "      <td>82.0</td>\n",
       "    </tr>\n",
       "    <tr>\n",
       "      <th>Retail</th>\n",
       "      <td>18.0</td>\n",
       "      <td>54.722222</td>\n",
       "      <td>30.056428</td>\n",
       "      <td>7.0</td>\n",
       "      <td>35.5</td>\n",
       "      <td>51.0</td>\n",
       "      <td>83.00</td>\n",
       "      <td>99.0</td>\n",
       "    </tr>\n",
       "    <tr>\n",
       "      <th>Telecommunications</th>\n",
       "      <td>4.0</td>\n",
       "      <td>44.750000</td>\n",
       "      <td>15.671099</td>\n",
       "      <td>31.0</td>\n",
       "      <td>32.5</td>\n",
       "      <td>42.0</td>\n",
       "      <td>54.25</td>\n",
       "      <td>64.0</td>\n",
       "    </tr>\n",
       "  </tbody>\n",
       "</table>\n",
       "</div>"
      ],
      "text/plain": [
       "                                         count       mean        std   min  \\\n",
       "wealth_segment    job_industry_category                                      \n",
       "Affluent Customer Argiculture              5.0  36.000000  23.505319   6.0   \n",
       "                  Entertainment            4.0  42.000000  25.337719   8.0   \n",
       "                  Financial Services      48.0  54.291667  27.979444   1.0   \n",
       "                  Health                  34.0  49.205882  26.909252   7.0   \n",
       "                  IT                       7.0  58.857143  26.748387  27.0   \n",
       "                  Manufacturing           41.0  52.487805  28.455335   0.0   \n",
       "                  Property                12.0  44.083333  25.723913   6.0   \n",
       "                  Retail                  18.0  54.722222  30.056428   7.0   \n",
       "                  Telecommunications       4.0  44.750000  15.671099  31.0   \n",
       "\n",
       "                                          25%   50%    75%   max  \n",
       "wealth_segment    job_industry_category                           \n",
       "Affluent Customer Argiculture            27.0  33.0  44.00  70.0  \n",
       "                  Entertainment          30.5  47.5  59.00  65.0  \n",
       "                  Financial Services     30.5  54.5  80.25  97.0  \n",
       "                  Health                 24.0  53.5  67.00  93.0  \n",
       "                  IT                     41.0  46.0  79.00  99.0  \n",
       "                  Manufacturing          32.0  56.0  77.00  98.0  \n",
       "                  Property               29.5  37.5  69.25  82.0  \n",
       "                  Retail                 35.5  51.0  83.00  99.0  \n",
       "                  Telecommunications     32.5  42.0  54.25  64.0  "
      ]
     },
     "execution_count": 120,
     "metadata": {},
     "output_type": "execute_result"
    }
   ],
   "source": [
    "affluent_customer = v.iloc[:9, :]\n",
    "affluent_customer"
   ]
  },
  {
   "cell_type": "code",
   "execution_count": 119,
   "id": "26113264",
   "metadata": {},
   "outputs": [
    {
     "data": {
      "text/html": [
       "<div>\n",
       "<style scoped>\n",
       "    .dataframe tbody tr th:only-of-type {\n",
       "        vertical-align: middle;\n",
       "    }\n",
       "\n",
       "    .dataframe tbody tr th {\n",
       "        vertical-align: top;\n",
       "    }\n",
       "\n",
       "    .dataframe thead th {\n",
       "        text-align: right;\n",
       "    }\n",
       "</style>\n",
       "<table border=\"1\" class=\"dataframe\">\n",
       "  <thead>\n",
       "    <tr style=\"text-align: right;\">\n",
       "      <th></th>\n",
       "      <th></th>\n",
       "      <th>count</th>\n",
       "      <th>mean</th>\n",
       "      <th>std</th>\n",
       "      <th>min</th>\n",
       "      <th>25%</th>\n",
       "      <th>50%</th>\n",
       "      <th>75%</th>\n",
       "      <th>max</th>\n",
       "    </tr>\n",
       "    <tr>\n",
       "      <th>wealth_segment</th>\n",
       "      <th>job_industry_category</th>\n",
       "      <th></th>\n",
       "      <th></th>\n",
       "      <th></th>\n",
       "      <th></th>\n",
       "      <th></th>\n",
       "      <th></th>\n",
       "      <th></th>\n",
       "      <th></th>\n",
       "    </tr>\n",
       "  </thead>\n",
       "  <tbody>\n",
       "    <tr>\n",
       "      <th rowspan=\"9\" valign=\"top\">High Net Worth</th>\n",
       "      <th>Argiculture</th>\n",
       "      <td>2.0</td>\n",
       "      <td>29.500000</td>\n",
       "      <td>12.020815</td>\n",
       "      <td>21.0</td>\n",
       "      <td>25.25</td>\n",
       "      <td>29.5</td>\n",
       "      <td>33.75</td>\n",
       "      <td>38.0</td>\n",
       "    </tr>\n",
       "    <tr>\n",
       "      <th>Entertainment</th>\n",
       "      <td>14.0</td>\n",
       "      <td>45.571429</td>\n",
       "      <td>25.593612</td>\n",
       "      <td>3.0</td>\n",
       "      <td>28.25</td>\n",
       "      <td>48.0</td>\n",
       "      <td>59.75</td>\n",
       "      <td>84.0</td>\n",
       "    </tr>\n",
       "    <tr>\n",
       "      <th>Financial Services</th>\n",
       "      <td>38.0</td>\n",
       "      <td>53.342105</td>\n",
       "      <td>24.262390</td>\n",
       "      <td>3.0</td>\n",
       "      <td>41.25</td>\n",
       "      <td>59.0</td>\n",
       "      <td>73.00</td>\n",
       "      <td>99.0</td>\n",
       "    </tr>\n",
       "    <tr>\n",
       "      <th>Health</th>\n",
       "      <td>34.0</td>\n",
       "      <td>53.000000</td>\n",
       "      <td>25.761141</td>\n",
       "      <td>5.0</td>\n",
       "      <td>31.75</td>\n",
       "      <td>58.5</td>\n",
       "      <td>72.00</td>\n",
       "      <td>99.0</td>\n",
       "    </tr>\n",
       "    <tr>\n",
       "      <th>IT</th>\n",
       "      <td>5.0</td>\n",
       "      <td>35.200000</td>\n",
       "      <td>23.101948</td>\n",
       "      <td>1.0</td>\n",
       "      <td>22.00</td>\n",
       "      <td>47.0</td>\n",
       "      <td>50.00</td>\n",
       "      <td>56.0</td>\n",
       "    </tr>\n",
       "    <tr>\n",
       "      <th>Manufacturing</th>\n",
       "      <td>55.0</td>\n",
       "      <td>44.800000</td>\n",
       "      <td>26.279410</td>\n",
       "      <td>2.0</td>\n",
       "      <td>24.50</td>\n",
       "      <td>46.0</td>\n",
       "      <td>60.50</td>\n",
       "      <td>98.0</td>\n",
       "    </tr>\n",
       "    <tr>\n",
       "      <th>Property</th>\n",
       "      <td>11.0</td>\n",
       "      <td>53.181818</td>\n",
       "      <td>20.527144</td>\n",
       "      <td>7.0</td>\n",
       "      <td>47.00</td>\n",
       "      <td>59.0</td>\n",
       "      <td>66.50</td>\n",
       "      <td>79.0</td>\n",
       "    </tr>\n",
       "    <tr>\n",
       "      <th>Retail</th>\n",
       "      <td>12.0</td>\n",
       "      <td>61.250000</td>\n",
       "      <td>33.355182</td>\n",
       "      <td>0.0</td>\n",
       "      <td>50.00</td>\n",
       "      <td>60.5</td>\n",
       "      <td>94.75</td>\n",
       "      <td>99.0</td>\n",
       "    </tr>\n",
       "    <tr>\n",
       "      <th>Telecommunications</th>\n",
       "      <td>9.0</td>\n",
       "      <td>50.333333</td>\n",
       "      <td>31.096624</td>\n",
       "      <td>11.0</td>\n",
       "      <td>17.00</td>\n",
       "      <td>54.0</td>\n",
       "      <td>71.00</td>\n",
       "      <td>97.0</td>\n",
       "    </tr>\n",
       "  </tbody>\n",
       "</table>\n",
       "</div>"
      ],
      "text/plain": [
       "                                      count       mean        std   min  \\\n",
       "wealth_segment job_industry_category                                      \n",
       "High Net Worth Argiculture              2.0  29.500000  12.020815  21.0   \n",
       "               Entertainment           14.0  45.571429  25.593612   3.0   \n",
       "               Financial Services      38.0  53.342105  24.262390   3.0   \n",
       "               Health                  34.0  53.000000  25.761141   5.0   \n",
       "               IT                       5.0  35.200000  23.101948   1.0   \n",
       "               Manufacturing           55.0  44.800000  26.279410   2.0   \n",
       "               Property                11.0  53.181818  20.527144   7.0   \n",
       "               Retail                  12.0  61.250000  33.355182   0.0   \n",
       "               Telecommunications       9.0  50.333333  31.096624  11.0   \n",
       "\n",
       "                                        25%   50%    75%   max  \n",
       "wealth_segment job_industry_category                            \n",
       "High Net Worth Argiculture            25.25  29.5  33.75  38.0  \n",
       "               Entertainment          28.25  48.0  59.75  84.0  \n",
       "               Financial Services     41.25  59.0  73.00  99.0  \n",
       "               Health                 31.75  58.5  72.00  99.0  \n",
       "               IT                     22.00  47.0  50.00  56.0  \n",
       "               Manufacturing          24.50  46.0  60.50  98.0  \n",
       "               Property               47.00  59.0  66.50  79.0  \n",
       "               Retail                 50.00  60.5  94.75  99.0  \n",
       "               Telecommunications     17.00  54.0  71.00  97.0  "
      ]
     },
     "execution_count": 119,
     "metadata": {},
     "output_type": "execute_result"
    }
   ],
   "source": [
    "high_net_worth = v.iloc[9:18, :]\n",
    "high_net_worth"
   ]
  },
  {
   "cell_type": "code",
   "execution_count": 118,
   "id": "6af5fd7c",
   "metadata": {},
   "outputs": [
    {
     "data": {
      "text/html": [
       "<div>\n",
       "<style scoped>\n",
       "    .dataframe tbody tr th:only-of-type {\n",
       "        vertical-align: middle;\n",
       "    }\n",
       "\n",
       "    .dataframe tbody tr th {\n",
       "        vertical-align: top;\n",
       "    }\n",
       "\n",
       "    .dataframe thead th {\n",
       "        text-align: right;\n",
       "    }\n",
       "</style>\n",
       "<table border=\"1\" class=\"dataframe\">\n",
       "  <thead>\n",
       "    <tr style=\"text-align: right;\">\n",
       "      <th></th>\n",
       "      <th></th>\n",
       "      <th>count</th>\n",
       "      <th>mean</th>\n",
       "      <th>std</th>\n",
       "      <th>min</th>\n",
       "      <th>25%</th>\n",
       "      <th>50%</th>\n",
       "      <th>75%</th>\n",
       "      <th>max</th>\n",
       "    </tr>\n",
       "    <tr>\n",
       "      <th>wealth_segment</th>\n",
       "      <th>job_industry_category</th>\n",
       "      <th></th>\n",
       "      <th></th>\n",
       "      <th></th>\n",
       "      <th></th>\n",
       "      <th></th>\n",
       "      <th></th>\n",
       "      <th></th>\n",
       "      <th></th>\n",
       "    </tr>\n",
       "  </thead>\n",
       "  <tbody>\n",
       "    <tr>\n",
       "      <th rowspan=\"9\" valign=\"top\">Mass Customer</th>\n",
       "      <th>Argiculture</th>\n",
       "      <td>16.0</td>\n",
       "      <td>55.812500</td>\n",
       "      <td>28.994755</td>\n",
       "      <td>12.0</td>\n",
       "      <td>29.00</td>\n",
       "      <td>65.5</td>\n",
       "      <td>77.00</td>\n",
       "      <td>97.0</td>\n",
       "    </tr>\n",
       "    <tr>\n",
       "      <th>Entertainment</th>\n",
       "      <td>14.0</td>\n",
       "      <td>61.714286</td>\n",
       "      <td>29.229670</td>\n",
       "      <td>4.0</td>\n",
       "      <td>36.00</td>\n",
       "      <td>76.0</td>\n",
       "      <td>83.25</td>\n",
       "      <td>95.0</td>\n",
       "    </tr>\n",
       "    <tr>\n",
       "      <th>Financial Services</th>\n",
       "      <td>96.0</td>\n",
       "      <td>51.489583</td>\n",
       "      <td>31.050382</td>\n",
       "      <td>0.0</td>\n",
       "      <td>24.75</td>\n",
       "      <td>51.5</td>\n",
       "      <td>79.50</td>\n",
       "      <td>99.0</td>\n",
       "    </tr>\n",
       "    <tr>\n",
       "      <th>Health</th>\n",
       "      <td>67.0</td>\n",
       "      <td>43.955224</td>\n",
       "      <td>27.162492</td>\n",
       "      <td>0.0</td>\n",
       "      <td>24.00</td>\n",
       "      <td>38.0</td>\n",
       "      <td>65.50</td>\n",
       "      <td>98.0</td>\n",
       "    </tr>\n",
       "    <tr>\n",
       "      <th>IT</th>\n",
       "      <td>17.0</td>\n",
       "      <td>57.882353</td>\n",
       "      <td>21.447268</td>\n",
       "      <td>0.0</td>\n",
       "      <td>50.00</td>\n",
       "      <td>57.0</td>\n",
       "      <td>67.00</td>\n",
       "      <td>91.0</td>\n",
       "    </tr>\n",
       "    <tr>\n",
       "      <th>Manufacturing</th>\n",
       "      <td>75.0</td>\n",
       "      <td>46.413333</td>\n",
       "      <td>28.971138</td>\n",
       "      <td>0.0</td>\n",
       "      <td>22.00</td>\n",
       "      <td>49.0</td>\n",
       "      <td>68.50</td>\n",
       "      <td>99.0</td>\n",
       "    </tr>\n",
       "    <tr>\n",
       "      <th>Property</th>\n",
       "      <td>26.0</td>\n",
       "      <td>42.115385</td>\n",
       "      <td>27.559865</td>\n",
       "      <td>0.0</td>\n",
       "      <td>14.25</td>\n",
       "      <td>48.0</td>\n",
       "      <td>60.00</td>\n",
       "      <td>91.0</td>\n",
       "    </tr>\n",
       "    <tr>\n",
       "      <th>Retail</th>\n",
       "      <td>43.0</td>\n",
       "      <td>51.255814</td>\n",
       "      <td>27.271207</td>\n",
       "      <td>9.0</td>\n",
       "      <td>30.50</td>\n",
       "      <td>49.0</td>\n",
       "      <td>73.50</td>\n",
       "      <td>98.0</td>\n",
       "    </tr>\n",
       "    <tr>\n",
       "      <th>Telecommunications</th>\n",
       "      <td>8.0</td>\n",
       "      <td>47.500000</td>\n",
       "      <td>29.076254</td>\n",
       "      <td>7.0</td>\n",
       "      <td>29.00</td>\n",
       "      <td>44.0</td>\n",
       "      <td>59.50</td>\n",
       "      <td>95.0</td>\n",
       "    </tr>\n",
       "  </tbody>\n",
       "</table>\n",
       "</div>"
      ],
      "text/plain": [
       "                                      count       mean        std   min  \\\n",
       "wealth_segment job_industry_category                                      \n",
       "Mass Customer  Argiculture             16.0  55.812500  28.994755  12.0   \n",
       "               Entertainment           14.0  61.714286  29.229670   4.0   \n",
       "               Financial Services      96.0  51.489583  31.050382   0.0   \n",
       "               Health                  67.0  43.955224  27.162492   0.0   \n",
       "               IT                      17.0  57.882353  21.447268   0.0   \n",
       "               Manufacturing           75.0  46.413333  28.971138   0.0   \n",
       "               Property                26.0  42.115385  27.559865   0.0   \n",
       "               Retail                  43.0  51.255814  27.271207   9.0   \n",
       "               Telecommunications       8.0  47.500000  29.076254   7.0   \n",
       "\n",
       "                                        25%   50%    75%   max  \n",
       "wealth_segment job_industry_category                            \n",
       "Mass Customer  Argiculture            29.00  65.5  77.00  97.0  \n",
       "               Entertainment          36.00  76.0  83.25  95.0  \n",
       "               Financial Services     24.75  51.5  79.50  99.0  \n",
       "               Health                 24.00  38.0  65.50  98.0  \n",
       "               IT                     50.00  57.0  67.00  91.0  \n",
       "               Manufacturing          22.00  49.0  68.50  99.0  \n",
       "               Property               14.25  48.0  60.00  91.0  \n",
       "               Retail                 30.50  49.0  73.50  98.0  \n",
       "               Telecommunications     29.00  44.0  59.50  95.0  "
      ]
     },
     "execution_count": 118,
     "metadata": {},
     "output_type": "execute_result"
    }
   ],
   "source": [
    "mass_customer = v.iloc[18:27, :]\n",
    "mass_customer"
   ]
  },
  {
   "cell_type": "markdown",
   "id": "8aaf230d",
   "metadata": {},
   "source": [
    "#### It looks like that the most profitable customers are of the *'Mass Customer'* wealth segment who work in the *Entertainment* industry as their median purchases sky-rockets at 76"
   ]
  },
  {
   "cell_type": "code",
   "execution_count": null,
   "id": "3d699166",
   "metadata": {},
   "outputs": [],
   "source": []
  }
 ],
 "metadata": {
  "kernelspec": {
   "display_name": "Python 3",
   "language": "python",
   "name": "python3"
  },
  "language_info": {
   "codemirror_mode": {
    "name": "ipython",
    "version": 3
   },
   "file_extension": ".py",
   "mimetype": "text/x-python",
   "name": "python",
   "nbconvert_exporter": "python",
   "pygments_lexer": "ipython3",
   "version": "3.7.10"
  }
 },
 "nbformat": 4,
 "nbformat_minor": 5
}
