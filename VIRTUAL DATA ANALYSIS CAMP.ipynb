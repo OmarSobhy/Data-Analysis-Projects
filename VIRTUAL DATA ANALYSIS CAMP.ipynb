{
 "cells": [
  {
   "cell_type": "markdown",
   "id": "c9963f50",
   "metadata": {},
   "source": [
    "### Data Quality Assessment "
   ]
  },
  {
   "cell_type": "code",
   "execution_count": 1,
   "id": "1fceca95",
   "metadata": {},
   "outputs": [],
   "source": [
    "#importing modules\n",
    "import pandas as pd\n",
    "import matplotlib.pyplot as plt\n",
    "import seaborn as sns\n",
    "import warnings\n",
    "from datetime import datetime\n",
    "\n",
    "warnings.filterwarnings('ignore')"
   ]
  },
  {
   "cell_type": "code",
   "execution_count": 2,
   "id": "bba54d8e",
   "metadata": {},
   "outputs": [],
   "source": [
    "#reading the full excel file handler\n",
    "xls = pd.ExcelFile(\"E:/Omar's Stuff/College related/KPMG_VI_New_raw_data_update_final2.xlsx\", engine='openpyxl')"
   ]
  },
  {
   "cell_type": "code",
   "execution_count": 3,
   "id": "81f846de",
   "metadata": {},
   "outputs": [],
   "source": [
    "#reading each worksheet to a specific dataframe\n",
    "Transactions = pd.read_excel(xls, 'Transactions', engine='openpyxl')\n",
    "\n",
    "NewCustomerList = pd.read_excel(xls, 'NewCustomerList', engine='openpyxl')\n",
    "\n",
    "CustomerDemographic = pd.read_excel(xls, 'CustomerDemographic', engine='openpyxl')\n",
    "\n",
    "CustomerAddress = pd.read_excel(xls, 'CustomerAddress', engine='openpyxl')"
   ]
  },
  {
   "cell_type": "markdown",
   "id": "f2754dcc",
   "metadata": {},
   "source": [
    "### Data Preprocessing"
   ]
  },
  {
   "cell_type": "code",
   "execution_count": 4,
   "id": "eab41eaa",
   "metadata": {},
   "outputs": [],
   "source": [
    "def preprocess(df):\n",
    "    '''\n",
    "        This function takes in a dataframe and removes the first column\n",
    "        and uses the first row of the data as the new header of the dataframe\n",
    "        It removes the Null columns and also the null rows, as I found out that there are not that much null vals and \n",
    "        its okay to remove them\n",
    "    \n",
    "        Args:\n",
    "            df---> pandas dataframe not preprocessed\n",
    "    \n",
    "        Returns:\n",
    "            the new preprocessed dataframe\n",
    "    '''\n",
    "    new_header = df.iloc[0]\n",
    "    df = df[1:]\n",
    "    df.columns = new_header\n",
    "    df.dropna(axis = 1, how = 'all', inplace = True)\n",
    "    df.dropna(axis = 0, inplace = True)\n",
    "    return df"
   ]
  },
  {
   "cell_type": "code",
   "execution_count": 5,
   "id": "778c8a5d",
   "metadata": {},
   "outputs": [],
   "source": [
    "Transactions = preprocess(Transactions)\n",
    "\n",
    "NewCustomerList = preprocess(NewCustomerList)\n",
    "\n",
    "CustomerDemographic = preprocess(CustomerDemographic)\n",
    "\n",
    "CustomerAddress = preprocess(CustomerAddress)"
   ]
  },
  {
   "cell_type": "code",
   "execution_count": 6,
   "id": "1d58caf8",
   "metadata": {},
   "outputs": [
    {
     "name": "stdout",
     "output_type": "stream",
     "text": [
      "the number of null vals in the Transactions dataframe is 0\n",
      "transaction_id             0\n",
      "product_id                 0\n",
      "customer_id                0\n",
      "transaction_date           0\n",
      "online_order               0\n",
      "order_status               0\n",
      "brand                      0\n",
      "product_line               0\n",
      "product_class              0\n",
      "product_size               0\n",
      "list_price                 0\n",
      "standard_cost              0\n",
      "product_first_sold_date    0\n",
      "dtype: int64\n"
     ]
    }
   ],
   "source": [
    "print(\"the number of null vals in the Transactions dataframe is {}\".format(Transactions.isna().sum()))"
   ]
  },
  {
   "cell_type": "code",
   "execution_count": 7,
   "id": "1804f123",
   "metadata": {},
   "outputs": [
    {
     "name": "stdout",
     "output_type": "stream",
     "text": [
      "the number of null vals in the NewCustomerList dataframe is 0\n",
      "first_name                             0\n",
      "last_name                              0\n",
      "gender                                 0\n",
      "past_3_years_bike_related_purchases    0\n",
      "DOB                                    0\n",
      "job_title                              0\n",
      "job_industry_category                  0\n",
      "wealth_segment                         0\n",
      "deceased_indicator                     0\n",
      "owns_car                               0\n",
      "tenure                                 0\n",
      "address                                0\n",
      "postcode                               0\n",
      "state                                  0\n",
      "country                                0\n",
      "property_valuation                     0\n",
      "NaN                                    0\n",
      "NaN                                    0\n",
      "NaN                                    0\n",
      "NaN                                    0\n",
      "NaN                                    0\n",
      "Rank                                   0\n",
      "Value                                  0\n",
      "dtype: int64\n"
     ]
    }
   ],
   "source": [
    "print(\"the number of null vals in the NewCustomerList dataframe is {}\".format(NewCustomerList.isna().sum()))\n",
    "#the NewCustomerList dataframe contains four unrecognized columns that dont exist in the excel file but exist here(needs more invistigation)\n",
    "#as they contain data"
   ]
  },
  {
   "cell_type": "code",
   "execution_count": 8,
   "id": "6ef54b82",
   "metadata": {},
   "outputs": [
    {
     "name": "stdout",
     "output_type": "stream",
     "text": [
      "the number of null vals in the Transactions CustomerDemographic is 0\n",
      "customer_id                            0\n",
      "first_name                             0\n",
      "last_name                              0\n",
      "gender                                 0\n",
      "past_3_years_bike_related_purchases    0\n",
      "DOB                                    0\n",
      "job_title                              0\n",
      "job_industry_category                  0\n",
      "wealth_segment                         0\n",
      "deceased_indicator                     0\n",
      "default                                0\n",
      "owns_car                               0\n",
      "tenure                                 0\n",
      "dtype: int64\n"
     ]
    }
   ],
   "source": [
    "print(\"the number of null vals in the Transactions CustomerDemographic is {}\".format(CustomerDemographic.isna().sum()))"
   ]
  },
  {
   "cell_type": "code",
   "execution_count": 9,
   "id": "28c22843",
   "metadata": {},
   "outputs": [
    {
     "name": "stdout",
     "output_type": "stream",
     "text": [
      "the number of null vals in the CustomerAddress dataframe is 0\n",
      "customer_id           0\n",
      "address               0\n",
      "postcode              0\n",
      "state                 0\n",
      "country               0\n",
      "property_valuation    0\n",
      "dtype: int64\n"
     ]
    }
   ],
   "source": [
    "print(\"the number of null vals in the CustomerAddress dataframe is {}\".format(CustomerAddress.isna().sum()))"
   ]
  },
  {
   "cell_type": "markdown",
   "id": "1fe3d699",
   "metadata": {},
   "source": [
    "#### From the above exploration I foun out that its okay to remove the null rows from the dataframe as its size wil not have a huge impact o the resulting dataframe"
   ]
  },
  {
   "cell_type": "code",
   "execution_count": 10,
   "id": "c15446c6",
   "metadata": {},
   "outputs": [],
   "source": [
    "#keeping the unknown columns in a seperate dataframe and removing them from the original dataframe \n",
    "#null_columns_in_NewCustomerList = NewCustomerList.iloc[:, 16:21]\n",
    "\n",
    "NewCustomerList.columns\n",
    "NewCustomerList.columns = ['first_name', 'last_name', 'gender', 'past_3_years_bike_related_purchases', 'DOB', 'job_title', 'job_industry_category',\n",
    "                          'wealth_segment', 'deceased_indicator', 'owns_car', 'tenure', 'address', 'postcode', 'state', 'country', 'property_valuation', \n",
    "                          '1', '2', '3', '4', '5', 'Rank', 'Value']\n",
    "NewCustomerList.drop(['1', '2', '3', '4', '5'], axis = 1, inplace = True)"
   ]
  },
  {
   "cell_type": "markdown",
   "id": "013449d7",
   "metadata": {},
   "source": [
    "### And I thinks thats it for data cleaning to remove null vals and null columns now to start checking the datatypes of the columns of the dataframes in hand. Startinhg with the *Transactions* dataframe\n"
   ]
  },
  {
   "cell_type": "code",
   "execution_count": 11,
   "id": "61c5d45c",
   "metadata": {},
   "outputs": [
    {
     "name": "stdout",
     "output_type": "stream",
     "text": [
      "<class 'pandas.core.frame.DataFrame'>\n",
      "Int64Index: 19445 entries, 1 to 20000\n",
      "Data columns (total 13 columns):\n",
      " #   Column                   Non-Null Count  Dtype \n",
      "---  ------                   --------------  ----- \n",
      " 0   transaction_id           19445 non-null  object\n",
      " 1   product_id               19445 non-null  object\n",
      " 2   customer_id              19445 non-null  object\n",
      " 3   transaction_date         19445 non-null  object\n",
      " 4   online_order             19445 non-null  object\n",
      " 5   order_status             19445 non-null  object\n",
      " 6   brand                    19445 non-null  object\n",
      " 7   product_line             19445 non-null  object\n",
      " 8   product_class            19445 non-null  object\n",
      " 9   product_size             19445 non-null  object\n",
      " 10  list_price               19445 non-null  object\n",
      " 11  standard_cost            19445 non-null  object\n",
      " 12  product_first_sold_date  19445 non-null  object\n",
      "dtypes: object(13)\n",
      "memory usage: 2.1+ MB\n"
     ]
    }
   ],
   "source": [
    "Transactions.info()"
   ]
  },
  {
   "cell_type": "markdown",
   "id": "0f233b5e",
   "metadata": {},
   "source": [
    "From the above informations it seems like I will have to do lots of data type changes for example I need to change the *transaction_date* column to *datetime* type and other columns need to be changed as well"
   ]
  },
  {
   "cell_type": "code",
   "execution_count": 12,
   "id": "0013eafd",
   "metadata": {},
   "outputs": [],
   "source": [
    "#changing the datatype of 'transaction_date' to datetime\n",
    "Transactions['transaction_date'] =  pd.to_datetime(Transactions['transaction_date'], format='%d%b%Y:%H:%M:%S.%f')"
   ]
  },
  {
   "cell_type": "code",
   "execution_count": 13,
   "id": "2cc69240",
   "metadata": {},
   "outputs": [],
   "source": [
    "#cahnging the datatype of *transaction_id* and *product_id* to int\n",
    "Transactions.transaction_id = Transactions.transaction_id.astype('int64')\n",
    "Transactions.product_id  = Transactions.product_id .astype('int64')"
   ]
  },
  {
   "cell_type": "code",
   "execution_count": 14,
   "id": "f03969c5",
   "metadata": {},
   "outputs": [],
   "source": [
    "#cahnging the datatype of 'online_order' to 'bool'\n",
    "Transactions.online_order =Transactions.online_order.astype('bool')"
   ]
  },
  {
   "cell_type": "code",
   "execution_count": 15,
   "id": "b9832b77",
   "metadata": {},
   "outputs": [],
   "source": [
    "#cahnging the datatype of 'list_price' to 'float'\n",
    "Transactions.list_price = Transactions.list_price.astype('float64')"
   ]
  },
  {
   "cell_type": "code",
   "execution_count": 16,
   "id": "377ab7bb",
   "metadata": {},
   "outputs": [],
   "source": [
    "#cahnging the datatype of 'standard_cost' to 'float'\n",
    "Transactions.standard_cost = Transactions.standard_cost.astype('float64')"
   ]
  },
  {
   "cell_type": "code",
   "execution_count": 17,
   "id": "76345abe",
   "metadata": {},
   "outputs": [],
   "source": [
    "#changing the datatype of 'product_first_sold_date' to datetime\n",
    "Transactions.product_first_sold_date = pd.to_datetime(Transactions['product_first_sold_date'], format='%d%b%Y:%H:%M:%S.%f')"
   ]
  },
  {
   "cell_type": "markdown",
   "id": "d9336ccc",
   "metadata": {},
   "source": [
    "### Now to the NewCustomerList dataframe"
   ]
  },
  {
   "cell_type": "code",
   "execution_count": 18,
   "id": "787d6d14",
   "metadata": {},
   "outputs": [
    {
     "name": "stdout",
     "output_type": "stream",
     "text": [
      "<class 'pandas.core.frame.DataFrame'>\n",
      "Int64Index: 715 entries, 1 to 1000\n",
      "Data columns (total 18 columns):\n",
      " #   Column                               Non-Null Count  Dtype \n",
      "---  ------                               --------------  ----- \n",
      " 0   first_name                           715 non-null    object\n",
      " 1   last_name                            715 non-null    object\n",
      " 2   gender                               715 non-null    object\n",
      " 3   past_3_years_bike_related_purchases  715 non-null    object\n",
      " 4   DOB                                  715 non-null    object\n",
      " 5   job_title                            715 non-null    object\n",
      " 6   job_industry_category                715 non-null    object\n",
      " 7   wealth_segment                       715 non-null    object\n",
      " 8   deceased_indicator                   715 non-null    object\n",
      " 9   owns_car                             715 non-null    object\n",
      " 10  tenure                               715 non-null    object\n",
      " 11  address                              715 non-null    object\n",
      " 12  postcode                             715 non-null    object\n",
      " 13  state                                715 non-null    object\n",
      " 14  country                              715 non-null    object\n",
      " 15  property_valuation                   715 non-null    object\n",
      " 16  Rank                                 715 non-null    object\n",
      " 17  Value                                715 non-null    object\n",
      "dtypes: object(18)\n",
      "memory usage: 106.1+ KB\n"
     ]
    }
   ],
   "source": [
    "NewCustomerList.info()"
   ]
  },
  {
   "cell_type": "code",
   "execution_count": 19,
   "id": "a279a83e",
   "metadata": {},
   "outputs": [],
   "source": [
    "#Changing the datatype of 'DOB' tp datetime\n",
    "NewCustomerList.DOB = pd.to_datetime(NewCustomerList['DOB'])"
   ]
  },
  {
   "cell_type": "code",
   "execution_count": 20,
   "id": "838a80be",
   "metadata": {},
   "outputs": [],
   "source": [
    "#Changing the datatype of 'Rank' to int\n",
    "NewCustomerList.Rank = NewCustomerList.Rank.astype('int') "
   ]
  },
  {
   "cell_type": "code",
   "execution_count": 21,
   "id": "78109236",
   "metadata": {},
   "outputs": [],
   "source": [
    "#Changing the datatype of 'Value' to int\n",
    "NewCustomerList.Value = NewCustomerList.Value.astype('float') "
   ]
  },
  {
   "cell_type": "code",
   "execution_count": 22,
   "id": "2e90959f",
   "metadata": {},
   "outputs": [],
   "source": [
    "#changing the values to be 'True' or 'False' insted of 'Yes' or 'No'\n",
    "NewCustomerList.owns_car = [True if i  == 'Yes' else False for i in NewCustomerList.owns_car]    "
   ]
  },
  {
   "cell_type": "code",
   "execution_count": 23,
   "id": "2f06892c",
   "metadata": {},
   "outputs": [],
   "source": [
    "#changing the values to be 'M' or 'F' insted of 'Male' or 'Female'\n",
    "NewCustomerList.gender = ['M' if i  == 'Male' else 'F' for i in NewCustomerList.gender]  "
   ]
  },
  {
   "cell_type": "code",
   "execution_count": 24,
   "id": "5ff9320d",
   "metadata": {},
   "outputs": [],
   "source": [
    "#Changing the datatype of 'property_valuation' to int\n",
    "NewCustomerList.property_valuation = NewCustomerList.property_valuation.astype('int') "
   ]
  },
  {
   "cell_type": "code",
   "execution_count": 25,
   "id": "de11bbee",
   "metadata": {},
   "outputs": [],
   "source": [
    "#Changing the datatype of 'postcode' to int\n",
    "NewCustomerList.postcode = NewCustomerList.postcode.astype('int') "
   ]
  },
  {
   "cell_type": "code",
   "execution_count": 26,
   "id": "1d3d034d",
   "metadata": {},
   "outputs": [],
   "source": [
    "#Changing the datatype of 'past_3_years_bike_related_purchases' to int\n",
    "NewCustomerList.past_3_years_bike_related_purchases = NewCustomerList.past_3_years_bike_related_purchases.astype('int') "
   ]
  },
  {
   "cell_type": "code",
   "execution_count": 27,
   "id": "033add2c",
   "metadata": {},
   "outputs": [],
   "source": [
    "#Changing the datatype of 'tenure' to int\n",
    "NewCustomerList.tenure = NewCustomerList.tenure.astype('int') "
   ]
  },
  {
   "cell_type": "code",
   "execution_count": 28,
   "id": "2209a263",
   "metadata": {},
   "outputs": [
    {
     "name": "stdout",
     "output_type": "stream",
     "text": [
      "<class 'pandas.core.frame.DataFrame'>\n",
      "Int64Index: 715 entries, 1 to 1000\n",
      "Data columns (total 18 columns):\n",
      " #   Column                               Non-Null Count  Dtype         \n",
      "---  ------                               --------------  -----         \n",
      " 0   first_name                           715 non-null    object        \n",
      " 1   last_name                            715 non-null    object        \n",
      " 2   gender                               715 non-null    object        \n",
      " 3   past_3_years_bike_related_purchases  715 non-null    int32         \n",
      " 4   DOB                                  715 non-null    datetime64[ns]\n",
      " 5   job_title                            715 non-null    object        \n",
      " 6   job_industry_category                715 non-null    object        \n",
      " 7   wealth_segment                       715 non-null    object        \n",
      " 8   deceased_indicator                   715 non-null    object        \n",
      " 9   owns_car                             715 non-null    bool          \n",
      " 10  tenure                               715 non-null    int32         \n",
      " 11  address                              715 non-null    object        \n",
      " 12  postcode                             715 non-null    int32         \n",
      " 13  state                                715 non-null    object        \n",
      " 14  country                              715 non-null    object        \n",
      " 15  property_valuation                   715 non-null    int32         \n",
      " 16  Rank                                 715 non-null    int32         \n",
      " 17  Value                                715 non-null    float64       \n",
      "dtypes: bool(1), datetime64[ns](1), float64(1), int32(5), object(10)\n",
      "memory usage: 87.3+ KB\n"
     ]
    }
   ],
   "source": [
    "NewCustomerList.info()"
   ]
  },
  {
   "cell_type": "markdown",
   "id": "f49b3375",
   "metadata": {},
   "source": [
    "### Now to the CustomerDemographic dataframe"
   ]
  },
  {
   "cell_type": "code",
   "execution_count": 29,
   "id": "02a4b4f1",
   "metadata": {},
   "outputs": [
    {
     "name": "stdout",
     "output_type": "stream",
     "text": [
      "<class 'pandas.core.frame.DataFrame'>\n",
      "Int64Index: 2630 entries, 1 to 3997\n",
      "Data columns (total 13 columns):\n",
      " #   Column                               Non-Null Count  Dtype \n",
      "---  ------                               --------------  ----- \n",
      " 0   customer_id                          2630 non-null   object\n",
      " 1   first_name                           2630 non-null   object\n",
      " 2   last_name                            2630 non-null   object\n",
      " 3   gender                               2630 non-null   object\n",
      " 4   past_3_years_bike_related_purchases  2630 non-null   object\n",
      " 5   DOB                                  2630 non-null   object\n",
      " 6   job_title                            2630 non-null   object\n",
      " 7   job_industry_category                2630 non-null   object\n",
      " 8   wealth_segment                       2630 non-null   object\n",
      " 9   deceased_indicator                   2630 non-null   object\n",
      " 10  default                              2630 non-null   object\n",
      " 11  owns_car                             2630 non-null   object\n",
      " 12  tenure                               2630 non-null   object\n",
      "dtypes: object(13)\n",
      "memory usage: 287.7+ KB\n"
     ]
    }
   ],
   "source": [
    "CustomerDemographic.info()"
   ]
  },
  {
   "cell_type": "code",
   "execution_count": 30,
   "id": "be443701",
   "metadata": {},
   "outputs": [],
   "source": [
    "#changed the datatype of 'customer_id' to int\n",
    "CustomerDemographic.customer_id = CustomerDemographic.customer_id.astype('int') "
   ]
  },
  {
   "cell_type": "code",
   "execution_count": 31,
   "id": "8006c100",
   "metadata": {},
   "outputs": [],
   "source": [
    "#Changed the data to 'F'\n",
    "CustomerDemographic.gender = ['F' if i == 'Female' or i == 'Femal' or i == 'F' else 'M' for i in CustomerDemographic.gender]\n",
    "#i found out that the data in the gender column is not the same where there are some rows encoded 'Femal', 'F' and 'Female' so I made them all 'F'"
   ]
  },
  {
   "cell_type": "code",
   "execution_count": 32,
   "id": "405ab947",
   "metadata": {},
   "outputs": [],
   "source": [
    "#changed the datatype of 'past_3_years_bike_related_purchases' to int\n",
    "CustomerDemographic.past_3_years_bike_related_purchases = CustomerDemographic.past_3_years_bike_related_purchases.astype('int')"
   ]
  },
  {
   "cell_type": "code",
   "execution_count": 33,
   "id": "4d7f67b0",
   "metadata": {},
   "outputs": [],
   "source": [
    "#changed the datatype of 'DOB' to datetime\n",
    "CustomerDemographic.DOB = pd.to_datetime(CustomerDemographic['DOB'])"
   ]
  },
  {
   "cell_type": "code",
   "execution_count": 34,
   "id": "6e4d0b14",
   "metadata": {},
   "outputs": [],
   "source": [
    "#made modifications to the values of the 'deceased_indicator' column; changed the value to be 1 if the original value was\n",
    "# 'Y' and 0 if it was 'N' to be able to use it in other ways and make inference from it\n",
    "CustomerDemographic.deceased_indicator = [1 if i == 'Y' else 0 for i in CustomerDemographic.deceased_indicator]"
   ]
  },
  {
   "cell_type": "code",
   "execution_count": 35,
   "id": "9df12e11",
   "metadata": {},
   "outputs": [],
   "source": [
    "#droped the 'default' column from the CustomerDemographic dataframe as it has weird values\n",
    "CustomerDemographic.drop('default', inplace = True, axis = 1)"
   ]
  },
  {
   "cell_type": "code",
   "execution_count": 36,
   "id": "10465ff7",
   "metadata": {},
   "outputs": [],
   "source": [
    "#made modifications to the values of the 'owns_car' column; changed the value to be 1 if the original value was\n",
    "# 'Yes' and 0 if it was 'No' to be able to use it in other ways and make inference from it\n",
    "CustomerDemographic.owns_car = [1 if i == 'Yes' else 0 for i in CustomerDemographic.owns_car]                       "
   ]
  },
  {
   "cell_type": "code",
   "execution_count": 37,
   "id": "3b9ccd1c",
   "metadata": {},
   "outputs": [],
   "source": [
    "#changed the datatype of 'tenure' to int\n",
    "CustomerDemographic.tenure = CustomerDemographic.tenure.astype('int')"
   ]
  },
  {
   "cell_type": "markdown",
   "id": "341ea9b0",
   "metadata": {},
   "source": [
    "### Now to the CustomerAddress Dataframe"
   ]
  },
  {
   "cell_type": "code",
   "execution_count": 38,
   "id": "d6c03e85",
   "metadata": {},
   "outputs": [],
   "source": [
    "#changed the datatype of 'customer_id' to int\n",
    "CustomerAddress.customer_id = CustomerAddress.customer_id.astype('int')"
   ]
  },
  {
   "cell_type": "code",
   "execution_count": 39,
   "id": "9fcce858",
   "metadata": {},
   "outputs": [],
   "source": [
    "#changed the datatype of 'postcode' to int\n",
    "CustomerAddress.postcode = CustomerAddress.postcode.astype('int')"
   ]
  },
  {
   "cell_type": "code",
   "execution_count": 40,
   "id": "92303b0c",
   "metadata": {},
   "outputs": [],
   "source": [
    "#changed the datatype of 'property_valuation' to int\n",
    "CustomerAddress.property_valuation = CustomerAddress.property_valuation.astype('int')"
   ]
  },
  {
   "cell_type": "code",
   "execution_count": 41,
   "id": "098b398a",
   "metadata": {},
   "outputs": [
    {
     "name": "stdout",
     "output_type": "stream",
     "text": [
      "<class 'pandas.core.frame.DataFrame'>\n",
      "Int64Index: 3999 entries, 1 to 3999\n",
      "Data columns (total 6 columns):\n",
      " #   Column              Non-Null Count  Dtype \n",
      "---  ------              --------------  ----- \n",
      " 0   customer_id         3999 non-null   int32 \n",
      " 1   address             3999 non-null   object\n",
      " 2   postcode            3999 non-null   int32 \n",
      " 3   state               3999 non-null   object\n",
      " 4   country             3999 non-null   object\n",
      " 5   property_valuation  3999 non-null   int32 \n",
      "dtypes: int32(3), object(3)\n",
      "memory usage: 171.8+ KB\n"
     ]
    }
   ],
   "source": [
    "CustomerAddress.info()"
   ]
  },
  {
   "cell_type": "markdown",
   "id": "c9979e89",
   "metadata": {},
   "source": [
    "### Saving the dataframes after the cleaning to specific files "
   ]
  },
  {
   "cell_type": "code",
   "execution_count": 42,
   "id": "d497362a",
   "metadata": {},
   "outputs": [],
   "source": [
    "CustomerDemographic.to_excel(\"E:/Omar's Stuff/College related/Virtual DataAnalysis Camp/CustomerDemographic.xlsx\") "
   ]
  },
  {
   "cell_type": "code",
   "execution_count": 43,
   "id": "daeba551",
   "metadata": {},
   "outputs": [],
   "source": [
    "NewCustomerList.to_excel(\"E:/Omar's Stuff/College related/Virtual DataAnalysis Camp/NewCustomerList.xlsx\") "
   ]
  },
  {
   "cell_type": "code",
   "execution_count": 44,
   "id": "641673d2",
   "metadata": {},
   "outputs": [],
   "source": [
    "Transactions.to_excel(\"E:/Omar's Stuff/College related/Virtual DataAnalysis Camp/Transactions.xlsx\") "
   ]
  },
  {
   "cell_type": "code",
   "execution_count": 45,
   "id": "254550e9",
   "metadata": {},
   "outputs": [],
   "source": [
    "CustomerAddress.to_excel(\"E:/Omar's Stuff/College related/Virtual DataAnalysis Camp/CustomerAddress.xlsx\") "
   ]
  }
 ],
 "metadata": {
  "kernelspec": {
   "display_name": "Python 3",
   "language": "python",
   "name": "python3"
  },
  "language_info": {
   "codemirror_mode": {
    "name": "ipython",
    "version": 3
   },
   "file_extension": ".py",
   "mimetype": "text/x-python",
   "name": "python",
   "nbconvert_exporter": "python",
   "pygments_lexer": "ipython3",
   "version": "3.7.10"
  }
 },
 "nbformat": 4,
 "nbformat_minor": 5
}
